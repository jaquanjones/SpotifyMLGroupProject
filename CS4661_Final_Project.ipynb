{
  "nbformat": 4,
  "nbformat_minor": 0,
  "metadata": {
    "colab": {
      "name": "CS4661-Final-Project.ipynb",
      "provenance": []
    },
    "kernelspec": {
      "name": "python3",
      "display_name": "Python 3"
    },
    "language_info": {
      "name": "python"
    }
  },
  "cells": [
    {
      "cell_type": "markdown",
      "metadata": {
        "id": "xf052Ox8zVwD"
      },
      "source": [
        "# Billboard Year-End Top 100 Songs Analysis\n",
        "\n",
        "---\n",
        "\n",
        "### **Group Members**\n",
        "* Jaquan Jones\n",
        "* Marie Karibyan\n",
        "* Hagop (Christian) Arabian\n",
        "* Nicol Barrios\n",
        "* Ani Movsesian\n",
        "\n",
        "---\n",
        "\n",
        "### **Project Description**\n",
        "In our project, we will use data top 100 song data provide from the [Billboard Year-End Top 100 Songs](https://www.billboard.com/charts/year-end/), in the years 2011-2020, provided by [Billboard](https://www.billboard.com/). We chose to use the top 100 song range of 2011-2020 considering music tends to be categorized by the decade (70s, 80s, 90s music etc). Each decade tends to have popular genres and a appear to have a trend in the evolving sound within each unique genres. Also, we noticed while planning the year range of our data initially that the sub-genres making up the general 'pop' (or popular) genre sound tends to evolve with time.\n",
        "\n",
        "With help from the Spotify Web API, we will analyze the unique features of individual tracks to help determine if any unique feature or feature combinations influence the ranking of songs listed. We will use **Classification**, to determine if a songs rank within a top 10 list can be accurately predicted, specifically testing the accuracies of predicting if a song is within top 50, top 25, and top 10 range.\n",
        "\n",
        "---\n",
        "### **Project Details**\n",
        "The following libraries will be used to perform classification on the dataset are the following:\n",
        "* **NumPy** - To perform advanced mathematical operations on Array objects\n",
        "* **pandas** - To read, manipulate, and process data in the form of Series and DataFrame structures\n",
        "* **scikit-learn** - For various Machine Learning algorithms and classification methods on the dataset\n",
        "* **Matplotlib** - For creating static, animated, and interactive visualizations of numerical data\n",
        "\n",
        "We will compare the accuracy scores of performing the following classifications:\n",
        "* **Decision Tree Classification**\n",
        "* **KNN Classification**\n",
        "* **Ensemble Learning (Bagging)**\n",
        "* **Random Forest Classification**\n",
        "* **Logistic Regression**\n",
        "\n",
        "Our primary data set can be found [here](https://www.kaggle.com/subhaskumarray/spotify-tracks-data?select=tracks.csv). The dataset contains the track analysis of around 586,000+ total songs found on Spotify. Since we were specifically interested in the top 100 songs from billboard.com, we used the following libraries to gather a list of the songs we were looking for:\n",
        "* **BeautifulSoup** - For parsing HTML data about each song found directly on billboard.com web pages\n",
        "* **Spotipy** - For accessing Spotify's Web API using python\n",
        "---\n",
        "\n",
        "### Merging/Filtering the Data\n",
        "\n",
        "By matching Spotify Song ID's of the gathered list of songs listed on billboard.com Year-End Top 100 Lists, years 2011-2020, we were able to filter only relevant songs from the original dataset containing track analysis of around 586,000+ total songs. Since accurately mathching Song ID's to the dataset we were capable of extending the original dataset to include the year the song was on the top 100 list and its rank on the list. We excluded columns from the original dataset that are not currently being provided by the Spotify Web API,columns that did not come directly come specifically from the *Get Track's Audio Features* endpoint, and columns having no analytical value (i.e. track_href, the url to the song). The link to our finalized dataset, filtering and enhancing the original dataset, can be found [here](https://raw.githubusercontent.com/jaquanjones/SpotifyMLGroupProject/main/datasets/merged_2011_2020_top_songs.csv).\n",
        "\n",
        "---\n",
        "### **Project Goals**\n",
        "* Our **primary goal** is to determine if we can use each song's *track audio analysis features* to classify if a song's rank on the top 100 list is within a particular given range\n",
        "\n",
        "* To begin, We will determine if using the songs Genres, which are initially formatted as a string, would be beneficial to include in the data set\n",
        "\n",
        "* Next, We will explore the decision tree accuracy of various ranges, testing top 50, 25, and 10 ranges\n",
        "* Following the determination of highest accuracy score initially returned by  Decision Tree Classification of top 50, top 25, and top 10 ranges, we will then perform KNN, Ensemble Learning (Bagging), Random Forest, and Logistic Regression on the initial most accurate top song range\n",
        "* Furthermore, we will evaluate the data to discover any highly influential features or trends in the various classification methods.\n"
      ]
    },
    {
      "cell_type": "markdown",
      "metadata": {
        "id": "B50BvutEfFBO"
      },
      "source": [
        "### Libraries used\n",
        "\n"
      ]
    },
    {
      "cell_type": "code",
      "metadata": {
        "id": "yf4LUDT8v9td"
      },
      "source": [
        "# base imports\n",
        "import numpy as np\n",
        "import pandas as pd\n",
        "\n",
        "import math\n",
        "\n",
        "from matplotlib import style, pyplot, figure\n",
        "\n",
        "from sklearn.tree import DecisionTreeClassifier\n",
        "from sklearn.linear_model import LogisticRegression\n",
        "from sklearn.neighbors import KNeighborsClassifier\n",
        "from sklearn.ensemble import RandomForestClassifier\n",
        "\n",
        "from sklearn.pipeline import make_pipeline\n",
        "from sklearn.preprocessing import StandardScaler\n",
        "\n",
        "from sklearn.model_selection import train_test_split, cross_val_score\n",
        "from sklearn.metrics import accuracy_score, roc_curve, auc\n",
        "from sklearn.utils import resample\n",
        "from sklearn import preprocessing"
      ],
      "execution_count": 1,
      "outputs": []
    },
    {
      "cell_type": "markdown",
      "metadata": {
        "id": "eF5vTWPMFH2c"
      },
      "source": [
        "### Reading the Data"
      ]
    },
    {
      "cell_type": "code",
      "metadata": {
        "colab": {
          "base_uri": "https://localhost:8080/",
          "height": 536
        },
        "id": "AgOlv81nGeW6",
        "outputId": "cc451a34-1a5b-4d88-b55f-3fcd1c81b3ac"
      },
      "source": [
        "# read csv data of top 100 songs of 2011-2020 into dataframe\n",
        "song_df = pd.read_csv(\n",
        "    \"https://raw.githubusercontent.com/jaquanjones/SpotifyMLGroupProject/main/datasets/merged_2011_2020_top_songs.csv\")\n",
        "\n",
        "song_df.head()"
      ],
      "execution_count": 2,
      "outputs": [
        {
          "output_type": "execute_result",
          "data": {
            "text/html": [
              "<div>\n",
              "<style scoped>\n",
              "    .dataframe tbody tr th:only-of-type {\n",
              "        vertical-align: middle;\n",
              "    }\n",
              "\n",
              "    .dataframe tbody tr th {\n",
              "        vertical-align: top;\n",
              "    }\n",
              "\n",
              "    .dataframe thead th {\n",
              "        text-align: right;\n",
              "    }\n",
              "</style>\n",
              "<table border=\"1\" class=\"dataframe\">\n",
              "  <thead>\n",
              "    <tr style=\"text-align: right;\">\n",
              "      <th></th>\n",
              "      <th>Spotify ID</th>\n",
              "      <th>Title</th>\n",
              "      <th>Artists</th>\n",
              "      <th>Year</th>\n",
              "      <th>Rank</th>\n",
              "      <th>Genres</th>\n",
              "      <th>Acousticness</th>\n",
              "      <th>Danceability</th>\n",
              "      <th>Energy</th>\n",
              "      <th>Instrumentalness</th>\n",
              "      <th>Key</th>\n",
              "      <th>Liveness</th>\n",
              "      <th>Loudness</th>\n",
              "      <th>Mode</th>\n",
              "      <th>Speechiness</th>\n",
              "      <th>Tempo</th>\n",
              "      <th>Time Signature</th>\n",
              "      <th>Valence</th>\n",
              "      <th>Top 100</th>\n",
              "    </tr>\n",
              "  </thead>\n",
              "  <tbody>\n",
              "    <tr>\n",
              "      <th>0</th>\n",
              "      <td>1c8gk2PeTE04A1pIDH9YMk</td>\n",
              "      <td>Rolling in the Deep</td>\n",
              "      <td>Adele</td>\n",
              "      <td>2011</td>\n",
              "      <td>1</td>\n",
              "      <td>british soul, pop, pop soul, uk pop</td>\n",
              "      <td>0.1380</td>\n",
              "      <td>0.730</td>\n",
              "      <td>0.769</td>\n",
              "      <td>0.0</td>\n",
              "      <td>8</td>\n",
              "      <td>0.0473</td>\n",
              "      <td>-5.114</td>\n",
              "      <td>1</td>\n",
              "      <td>0.0298</td>\n",
              "      <td>104.948</td>\n",
              "      <td>4</td>\n",
              "      <td>0.507</td>\n",
              "      <td>0</td>\n",
              "    </tr>\n",
              "    <tr>\n",
              "      <th>1</th>\n",
              "      <td>0IkKz2J93C94Ei4BvDop7P</td>\n",
              "      <td>Party Rock Anthem</td>\n",
              "      <td>LMFAO Featuring Lauren Bennett &amp; GoonRock</td>\n",
              "      <td>2011</td>\n",
              "      <td>2</td>\n",
              "      <td>dance pop, pop rap</td>\n",
              "      <td>0.0189</td>\n",
              "      <td>0.750</td>\n",
              "      <td>0.727</td>\n",
              "      <td>0.0</td>\n",
              "      <td>5</td>\n",
              "      <td>0.2660</td>\n",
              "      <td>-4.210</td>\n",
              "      <td>0</td>\n",
              "      <td>0.1420</td>\n",
              "      <td>129.993</td>\n",
              "      <td>4</td>\n",
              "      <td>0.359</td>\n",
              "      <td>0</td>\n",
              "    </tr>\n",
              "    <tr>\n",
              "      <th>2</th>\n",
              "      <td>4r6eNCsrZnQWJzzvFh4nlg</td>\n",
              "      <td>Firework</td>\n",
              "      <td>Katy Perry</td>\n",
              "      <td>2011</td>\n",
              "      <td>3</td>\n",
              "      <td>dance pop, pop, pop rap, post-teen pop</td>\n",
              "      <td>0.1410</td>\n",
              "      <td>0.638</td>\n",
              "      <td>0.832</td>\n",
              "      <td>0.0</td>\n",
              "      <td>8</td>\n",
              "      <td>0.1130</td>\n",
              "      <td>-5.039</td>\n",
              "      <td>1</td>\n",
              "      <td>0.0490</td>\n",
              "      <td>124.071</td>\n",
              "      <td>4</td>\n",
              "      <td>0.648</td>\n",
              "      <td>0</td>\n",
              "    </tr>\n",
              "    <tr>\n",
              "      <th>3</th>\n",
              "      <td>36ux3YuUsGTWPT8fXclS45</td>\n",
              "      <td>E.T.</td>\n",
              "      <td>Katy Perry Featuring Kanye West</td>\n",
              "      <td>2011</td>\n",
              "      <td>4</td>\n",
              "      <td>dance pop, pop, pop rap, post-teen pop, chicag...</td>\n",
              "      <td>0.0181</td>\n",
              "      <td>0.620</td>\n",
              "      <td>0.869</td>\n",
              "      <td>0.0</td>\n",
              "      <td>1</td>\n",
              "      <td>0.3690</td>\n",
              "      <td>-5.252</td>\n",
              "      <td>1</td>\n",
              "      <td>0.1750</td>\n",
              "      <td>151.684</td>\n",
              "      <td>4</td>\n",
              "      <td>0.760</td>\n",
              "      <td>0</td>\n",
              "    </tr>\n",
              "    <tr>\n",
              "      <th>4</th>\n",
              "      <td>4QNpBfC0zvjKqPJcyqBy9W</td>\n",
              "      <td>Give Me Everything (feat. Ne-Yo, Afrojack &amp; Na...</td>\n",
              "      <td>Pitbull Featuring Ne-Yo, Afrojack &amp; Nayer</td>\n",
              "      <td>2011</td>\n",
              "      <td>5</td>\n",
              "      <td>pop, pop rap, dance pop</td>\n",
              "      <td>0.1910</td>\n",
              "      <td>0.671</td>\n",
              "      <td>0.939</td>\n",
              "      <td>0.0</td>\n",
              "      <td>8</td>\n",
              "      <td>0.2980</td>\n",
              "      <td>-3.206</td>\n",
              "      <td>1</td>\n",
              "      <td>0.1610</td>\n",
              "      <td>129.024</td>\n",
              "      <td>4</td>\n",
              "      <td>0.530</td>\n",
              "      <td>0</td>\n",
              "    </tr>\n",
              "  </tbody>\n",
              "</table>\n",
              "</div>"
            ],
            "text/plain": [
              "               Spotify ID  ... Top 100\n",
              "0  1c8gk2PeTE04A1pIDH9YMk  ...       0\n",
              "1  0IkKz2J93C94Ei4BvDop7P  ...       0\n",
              "2  4r6eNCsrZnQWJzzvFh4nlg  ...       0\n",
              "3  36ux3YuUsGTWPT8fXclS45  ...       0\n",
              "4  4QNpBfC0zvjKqPJcyqBy9W  ...       0\n",
              "\n",
              "[5 rows x 19 columns]"
            ]
          },
          "metadata": {},
          "execution_count": 2
        }
      ]
    },
    {
      "cell_type": "code",
      "metadata": {
        "colab": {
          "base_uri": "https://localhost:8080/"
        },
        "id": "WrJwuE2wx-DZ",
        "outputId": "dba5971b-63e2-41d1-9b16-e5c94c4e7a14"
      },
      "source": [
        "# checking shape of song_df\n",
        "song_df.shape"
      ],
      "execution_count": 3,
      "outputs": [
        {
          "output_type": "execute_result",
          "data": {
            "text/plain": [
              "(905, 19)"
            ]
          },
          "metadata": {},
          "execution_count": 3
        }
      ]
    },
    {
      "cell_type": "markdown",
      "metadata": {
        "id": "ipUxiUiT_8Au"
      },
      "source": [
        "### **Feature Column Details**\n",
        "* **Spotify ID**\n",
        "    * The Spotify ID for the track\n",
        "\n",
        "* **Title**\n",
        "    * The title of the song\n",
        "\n",
        "* **Artists**\n",
        "    * The artists featured on the song\n",
        "\n",
        "* **Year**\n",
        "    * The year the song ranked on the year-end top 100 songs list\n",
        "\n",
        "* **Rank**\n",
        "    * The song's ranking in the year-end top 100 songs chart\n",
        "\n",
        "* **Genres**\n",
        "    * The genres the song is listed under (may be multiple)\n",
        "\n",
        "* **Acousticness**\n",
        "    * A confidence measure from 0.0 to 1.0 of whether the track is acoustic. 1.0 represents high confidence the track is acoustic\n",
        "\n",
        "* **Danceability**\n",
        "    * Danceability describes how suitable a track is for dancing based on a combination of musical elements including tempo, rhythm stability, beat strength, and overall regularity. A value of 0.0 is least danceable and 1.0 is most danceable\n",
        "\n",
        "* **Energy**\n",
        "    * Energy is a measure from 0.0 to 1.0 and represents a perceptual measure of intensity and activity. Typically, energetic tracks feel fast, loud, and noisy. For example, death metal has high energy, while a Bach prelude scores low on the scale. Perceptual features contributing to this attribute include dynamic range, perceived loudness, timbre, onset rate, and general entropy.\n",
        "\n",
        "* **Instrumentalness**\n",
        "    * Predicts whether a track contains no vocals. \"Ooh\" and \"aah\" sounds are treated as instrumental in this context. Rap or spoken word tracks are clearly \"vocal\". The closer the instrumentalness value is to 1.0, the greater likelihood the track contains no vocal content. Values above 0.5 are intended to represent instrumental tracks, but confidence is higher as the value approaches 1.0.\n",
        "\n",
        "* **Key**\n",
        "    * The key the track is in. Integers map to pitches using standard Pitch Class notation. E.g. 0 = C, 1 = C♯/D♭, 2 = D, and so on. If no key was detected, the value is -1.\n",
        "\n",
        "* **Liveness**\n",
        "    * Detects the presence of an audience in the recording. Higher liveness values represent an increased probability that the track was performed live. A value above 0.8 provides strong likelihood that the track is live.\n",
        "\n",
        "* **Loudness**\n",
        "    * The overall loudness of a track in decibels (dB). Loudness values are averaged across the entire track and are useful for comparing relative loudness of tracks. Loudness is the quality of a sound that is the primary psychological correlate of physical strength (amplitude). Values typically range between -60 and 0 db.\n",
        "\n",
        "* **Mode**\n",
        "    * Mode indicates the modality (major or minor) of a track, the type of scale from which its melodic content is derived. Major is represented by 1 and minor is 0.\n",
        "\n",
        "* **Speechiness**\n",
        "    * Speechiness detects the presence of spoken words in a track. The more exclusively speech-like the recording (e.g. talk show, audio book, poetry), the closer to 1.0 the attribute value. Values above 0.66 describe tracks that are probably made entirely of spoken words. Values between 0.33 and 0.66 describe tracks that may contain both music and speech, either in sections or layered, including such cases as rap music. Values below 0.33 most likely represent music and other non-speech-like tracks.\n",
        "\n",
        "* **Tempo**\n",
        "    * The overall estimated tempo of a track in beats per minute (BPM). In musical terminology, tempo is the speed or pace of a given piece and derives directly from the average beat duration.\n",
        "\n",
        "* **Time Signature**\n",
        "    * An estimated time signature. The time signature (meter) is a notational convention to specify how many beats are in each bar (or measure). The time signature ranges from 3 to 7 indicating time signatures of \"3/4\", to \"7/4\".\n",
        "\n",
        "* **Valence**\n",
        "    * A measure from 0.0 to 1.0 describing the musical positiveness conveyed by a track. Tracks with high valence sound more positive (e.g. happy, cheerful, euphoric), while tracks with low valence sound more negative (e.g. sad, depressed, angry).\n",
        "\n"
      ]
    },
    {
      "cell_type": "code",
      "metadata": {
        "colab": {
          "base_uri": "https://localhost:8080/"
        },
        "id": "KeS7zqwsyUQv",
        "outputId": "9111b642-39ef-4884-e9d1-8136c6a9a766"
      },
      "source": [
        "song_df.info()"
      ],
      "execution_count": 4,
      "outputs": [
        {
          "output_type": "stream",
          "name": "stdout",
          "text": [
            "<class 'pandas.core.frame.DataFrame'>\n",
            "RangeIndex: 905 entries, 0 to 904\n",
            "Data columns (total 19 columns):\n",
            " #   Column            Non-Null Count  Dtype  \n",
            "---  ------            --------------  -----  \n",
            " 0   Spotify ID        905 non-null    object \n",
            " 1   Title             905 non-null    object \n",
            " 2   Artists           905 non-null    object \n",
            " 3   Year              905 non-null    int64  \n",
            " 4   Rank              905 non-null    int64  \n",
            " 5   Genres            905 non-null    object \n",
            " 6   Acousticness      905 non-null    float64\n",
            " 7   Danceability      905 non-null    float64\n",
            " 8   Energy            905 non-null    float64\n",
            " 9   Instrumentalness  905 non-null    float64\n",
            " 10  Key               905 non-null    int64  \n",
            " 11  Liveness          905 non-null    float64\n",
            " 12  Loudness          905 non-null    float64\n",
            " 13  Mode              905 non-null    int64  \n",
            " 14  Speechiness       905 non-null    float64\n",
            " 15  Tempo             905 non-null    float64\n",
            " 16  Time Signature    905 non-null    int64  \n",
            " 17  Valence           905 non-null    float64\n",
            " 18  Top 100           905 non-null    int64  \n",
            "dtypes: float64(9), int64(6), object(4)\n",
            "memory usage: 134.5+ KB\n"
          ]
        }
      ]
    },
    {
      "cell_type": "markdown",
      "metadata": {
        "id": "X_8kaOLrFopM"
      },
      "source": [
        "### Converting the Data Types\n",
        "* Using `convert_dtypes()` to convert the original data types to best suited data types\n",
        "* Specifically, values unnecessarily `float64` changed to int64"
      ]
    },
    {
      "cell_type": "code",
      "metadata": {
        "colab": {
          "base_uri": "https://localhost:8080/"
        },
        "id": "KRveYktnD3Ev",
        "outputId": "d16b1faa-ec3e-461d-aac0-b2a4cc657d00"
      },
      "source": [
        "song_df = song_df.convert_dtypes()\n",
        "\n",
        "song_df.info()"
      ],
      "execution_count": 5,
      "outputs": [
        {
          "output_type": "stream",
          "name": "stdout",
          "text": [
            "<class 'pandas.core.frame.DataFrame'>\n",
            "RangeIndex: 905 entries, 0 to 904\n",
            "Data columns (total 19 columns):\n",
            " #   Column            Non-Null Count  Dtype  \n",
            "---  ------            --------------  -----  \n",
            " 0   Spotify ID        905 non-null    string \n",
            " 1   Title             905 non-null    string \n",
            " 2   Artists           905 non-null    string \n",
            " 3   Year              905 non-null    Int64  \n",
            " 4   Rank              905 non-null    Int64  \n",
            " 5   Genres            905 non-null    string \n",
            " 6   Acousticness      905 non-null    float64\n",
            " 7   Danceability      905 non-null    float64\n",
            " 8   Energy            905 non-null    float64\n",
            " 9   Instrumentalness  905 non-null    float64\n",
            " 10  Key               905 non-null    Int64  \n",
            " 11  Liveness          905 non-null    float64\n",
            " 12  Loudness          905 non-null    float64\n",
            " 13  Mode              905 non-null    Int64  \n",
            " 14  Speechiness       905 non-null    float64\n",
            " 15  Tempo             905 non-null    float64\n",
            " 16  Time Signature    905 non-null    Int64  \n",
            " 17  Valence           905 non-null    float64\n",
            " 18  Top 100           905 non-null    Int64  \n",
            "dtypes: Int64(6), float64(9), string(4)\n",
            "memory usage: 139.8 KB\n"
          ]
        }
      ]
    },
    {
      "cell_type": "markdown",
      "metadata": {
        "id": "sBrRvh1_GRZ2"
      },
      "source": [
        "### Exploring Genre as a Feature\n",
        "* The column Genres in the dataframe is initially given as a single string\n",
        "* The following code parses the string into specific genre occurences\n",
        "    * splitting genres at each `,` and stripping the trailing or leading whites space after the split creates the opportunity to create one list of all genres mentioned in the data set\n",
        "* The genre list allows the following:\n",
        "    1. creating a list of unique genres (by creating a set)\n",
        "    2. counting the number of times each genre occurs\n",
        "    3. counting how many songs have the unique genre listed in their Genre string\n",
        "    4. "
      ]
    },
    {
      "cell_type": "code",
      "metadata": {
        "colab": {
          "base_uri": "https://localhost:8080/"
        },
        "id": "xdHLN-6kylta",
        "outputId": "760102f4-21bb-4c52-ad58-e86b3f6a737e"
      },
      "source": [
        "# creating list of unique genres in genre column of dataset\n",
        "genre_list = song_df['Genres'].to_list()\n",
        "\n",
        "all_genres = []\n",
        "\n",
        "for song_genres in genre_list:\n",
        "    song_genres_list = str(song_genres).split(',')\n",
        "    for song_genre in song_genres_list:\n",
        "        all_genres.append(song_genre)\n",
        "\n",
        "all_genres = [genre.strip() for genre in all_genres]\n",
        "\n",
        "unique_genres_set = set(all_genres)\n",
        "unique_genres_list = list(unique_genres_set)\n",
        "\n",
        "print('The first 20 unique genres are:\\n')\n",
        "unique_genres_list[:20]"
      ],
      "execution_count": 6,
      "outputs": [
        {
          "output_type": "stream",
          "name": "stdout",
          "text": [
            "The first 20 unique genres are:\n",
            "\n"
          ]
        },
        {
          "output_type": "execute_result",
          "data": {
            "text/plain": [
              "['reggae fusion',\n",
              " 'uk pop',\n",
              " 'southern hip hop',\n",
              " 'pittsburgh rap',\n",
              " 'korean old school hip hop',\n",
              " 'vapor twitch',\n",
              " 'nu metal',\n",
              " 'uk contemporary r&b',\n",
              " 'latin viral pop',\n",
              " 'minnesota hip hop',\n",
              " 'christian music',\n",
              " 'pop rap',\n",
              " 'canadian pop',\n",
              " 'grime',\n",
              " 'drill',\n",
              " 'stomp pop',\n",
              " 'modern blues rock',\n",
              " 'new wave',\n",
              " 'afro dancehall',\n",
              " 'new orleans rap']"
            ]
          },
          "metadata": {},
          "execution_count": 6
        }
      ]
    },
    {
      "cell_type": "code",
      "metadata": {
        "id": "B-OROuBHDu2S",
        "colab": {
          "base_uri": "https://localhost:8080/"
        },
        "outputId": "5e4a8d39-85fe-44ab-b2ca-75ca69dbe707"
      },
      "source": [
        "# displaying occurences of unique genre in song list\n",
        "genre_occurences = {}\n",
        "\n",
        "for genre in unique_genres_list:\n",
        "    genre_occurences[genre] = all_genres.count(genre)\n",
        "\n",
        "sorted_genres = sorted(genre_occurences.items(), key=lambda x: x[1], reverse=True)\n",
        "sorted_genre_list = []\n",
        "\n",
        "print('\\'Name of Genre\\': \\'# of Songs W/ Genre\\' (First 20)\\n')\n",
        "for genre, occurences in sorted_genres:\n",
        "        sorted_genre_list.append([genre, occurences])\n",
        "        # print(f'{genre}: {occurences}')\n",
        "\n",
        "for i in range(20):\n",
        "    print(f'{sorted_genre_list[i][0]}: {sorted_genre_list[i][1]}')"
      ],
      "execution_count": 7,
      "outputs": [
        {
          "output_type": "stream",
          "name": "stdout",
          "text": [
            "'Name of Genre': '# of Songs W/ Genre' (First 20)\n",
            "\n",
            "pop: 509\n",
            "dance pop: 332\n",
            "rap: 224\n",
            "pop rap: 203\n",
            "hip hop: 114\n",
            "trap: 107\n",
            "post-teen pop: 100\n",
            "contemporary country: 95\n",
            "country: 80\n",
            "country road: 73\n",
            "canadian pop: 60\n",
            "pop rock: 57\n",
            "electropop: 55\n",
            "southern hip hop: 54\n",
            "modern rock: 52\n",
            "melodic rap: 45\n",
            "r&b: 43\n",
            "urban contemporary: 42\n",
            "rock: 38\n",
            "uk pop: 36\n"
          ]
        }
      ]
    },
    {
      "cell_type": "code",
      "metadata": {
        "id": "LoNdPrRwEK_1",
        "colab": {
          "base_uri": "https://localhost:8080/",
          "height": 639
        },
        "outputId": "ba3dd2f2-ecfb-4c79-f4f1-782bb45cdf14"
      },
      "source": [
        "# Listing and visualizing the top 10 genre occurences\n",
        "\n",
        "print('Top 10 Genres:')\n",
        "\n",
        "for i in range(0,10):\n",
        "    print(f'\\t#{i+1}) {sorted_genre_list[i][0]}: {sorted_genre_list[i][1]}')\n",
        "\n",
        "\n",
        "print('\\nTop 10 Genres Chart:')\n",
        "\n",
        "pyplot.figure(figsize=(10, 6), dpi=80)\n",
        "\n",
        "pyplot.bar([x for x in range(1,11)], [sorted_genres[i][1] for i in range(10)] )\n",
        "pyplot.show()"
      ],
      "execution_count": 8,
      "outputs": [
        {
          "output_type": "stream",
          "name": "stdout",
          "text": [
            "Top 10 Genres:\n",
            "\t#1) pop: 509\n",
            "\t#2) dance pop: 332\n",
            "\t#3) rap: 224\n",
            "\t#4) pop rap: 203\n",
            "\t#5) hip hop: 114\n",
            "\t#6) trap: 107\n",
            "\t#7) post-teen pop: 100\n",
            "\t#8) contemporary country: 95\n",
            "\t#9) country: 80\n",
            "\t#10) country road: 73\n",
            "\n",
            "Top 10 Genres Chart:\n"
          ]
        },
        {
          "output_type": "display_data",
          "data": {
            "image/png": "[encoded data removed]",
            "text/plain": [
              "<Figure size 800x480 with 1 Axes>"
            ]
          },
          "metadata": {
            "needs_background": "light"
          }
        }
      ]
    },
    {
      "cell_type": "code",
      "metadata": {
        "colab": {
          "base_uri": "https://localhost:8080/"
        },
        "id": "-fPyj31saEfd",
        "outputId": "ad62308d-345f-4cc9-f589-428f66e892b7"
      },
      "source": [
        "# testing to confirm if it would be beneficial to exclude the word 'pop' after first time\n",
        "top_genres = []\n",
        "word_occurences = []\n",
        "\n",
        "for genre in sorted_genres:\n",
        "    genre_break_down = genre[0].split(' ')\n",
        "    # print(genre_break_down)\n",
        "\n",
        "    if all(x not in word_occurences for x in genre_break_down):\n",
        "        word_occurences += genre_break_down\n",
        "        top_genres.append(genre[0])\n",
        "\n",
        "top_10_genres = top_genres[:10]\n",
        "\n",
        "\n",
        "print('The first 10 genres not including the word \\'pop\\':\\n')\n",
        "print(top_10_genres)"
      ],
      "execution_count": 9,
      "outputs": [
        {
          "output_type": "stream",
          "name": "stdout",
          "text": [
            "The first 10 genres not including the word 'pop':\n",
            "\n",
            "['pop', 'rap', 'hip hop', 'trap', 'contemporary country', 'electropop', 'modern rock', 'r&b', 'edm', 'neo mellow']\n"
          ]
        }
      ]
    },
    {
      "cell_type": "code",
      "metadata": {
        "colab": {
          "base_uri": "https://localhost:8080/"
        },
        "id": "Vw3__kRIbCAo",
        "outputId": "d6550587-0e32-4099-ef0e-fd15c27974a0"
      },
      "source": [
        "top_genre_occurences = {}\n",
        "\n",
        "for genre in top_10_genres[0:10]:\n",
        "    top_genre_occurences[genre] = all_genres.count(genre)\n",
        "\n",
        "print('The # of occurences of the first 10 genres not including the word \\'pop\\':\\n')\n",
        "for genre, occurence in top_genre_occurences.items():\n",
        "    # sorted_genre_list.append([genre, occurences])\n",
        "    print(f'\\t{genre}: {occurence}')"
      ],
      "execution_count": 10,
      "outputs": [
        {
          "output_type": "stream",
          "name": "stdout",
          "text": [
            "The # of occurences of the first 10 genres not including the word 'pop':\n",
            "\n",
            "\tpop: 509\n",
            "\trap: 224\n",
            "\thip hop: 114\n",
            "\ttrap: 107\n",
            "\tcontemporary country: 95\n",
            "\telectropop: 55\n",
            "\tmodern rock: 52\n",
            "\tr&b: 43\n",
            "\tedm: 29\n",
            "\tneo mellow: 25\n"
          ]
        }
      ]
    },
    {
      "cell_type": "code",
      "metadata": {
        "colab": {
          "base_uri": "https://localhost:8080/",
          "height": 658
        },
        "id": "qr6fL8AMdpHe",
        "outputId": "3d6fabd2-0a83-4c37-8970-40c7a153d7cd"
      },
      "source": [
        "# number of genres for each song\n",
        "song_genres = song_df['Genres'].to_list()\n",
        "\n",
        "song_genre_count = [len(str(genres).split(',')) for genres in song_genres]\n",
        "\n",
        "song_df['Genre Count'] = song_genre_count\n",
        "# print(song_genre_count)\n",
        "song_df.head()"
      ],
      "execution_count": 11,
      "outputs": [
        {
          "output_type": "execute_result",
          "data": {
            "text/html": [
              "<div>\n",
              "<style scoped>\n",
              "    .dataframe tbody tr th:only-of-type {\n",
              "        vertical-align: middle;\n",
              "    }\n",
              "\n",
              "    .dataframe tbody tr th {\n",
              "        vertical-align: top;\n",
              "    }\n",
              "\n",
              "    .dataframe thead th {\n",
              "        text-align: right;\n",
              "    }\n",
              "</style>\n",
              "<table border=\"1\" class=\"dataframe\">\n",
              "  <thead>\n",
              "    <tr style=\"text-align: right;\">\n",
              "      <th></th>\n",
              "      <th>Spotify ID</th>\n",
              "      <th>Title</th>\n",
              "      <th>Artists</th>\n",
              "      <th>Year</th>\n",
              "      <th>Rank</th>\n",
              "      <th>Genres</th>\n",
              "      <th>Acousticness</th>\n",
              "      <th>Danceability</th>\n",
              "      <th>Energy</th>\n",
              "      <th>Instrumentalness</th>\n",
              "      <th>Key</th>\n",
              "      <th>Liveness</th>\n",
              "      <th>Loudness</th>\n",
              "      <th>Mode</th>\n",
              "      <th>Speechiness</th>\n",
              "      <th>Tempo</th>\n",
              "      <th>Time Signature</th>\n",
              "      <th>Valence</th>\n",
              "      <th>Top 100</th>\n",
              "      <th>Genre Count</th>\n",
              "    </tr>\n",
              "  </thead>\n",
              "  <tbody>\n",
              "    <tr>\n",
              "      <th>0</th>\n",
              "      <td>1c8gk2PeTE04A1pIDH9YMk</td>\n",
              "      <td>Rolling in the Deep</td>\n",
              "      <td>Adele</td>\n",
              "      <td>2011</td>\n",
              "      <td>1</td>\n",
              "      <td>british soul, pop, pop soul, uk pop</td>\n",
              "      <td>0.1380</td>\n",
              "      <td>0.730</td>\n",
              "      <td>0.769</td>\n",
              "      <td>0.0</td>\n",
              "      <td>8</td>\n",
              "      <td>0.0473</td>\n",
              "      <td>-5.114</td>\n",
              "      <td>1</td>\n",
              "      <td>0.0298</td>\n",
              "      <td>104.948</td>\n",
              "      <td>4</td>\n",
              "      <td>0.507</td>\n",
              "      <td>0</td>\n",
              "      <td>4</td>\n",
              "    </tr>\n",
              "    <tr>\n",
              "      <th>1</th>\n",
              "      <td>0IkKz2J93C94Ei4BvDop7P</td>\n",
              "      <td>Party Rock Anthem</td>\n",
              "      <td>LMFAO Featuring Lauren Bennett &amp; GoonRock</td>\n",
              "      <td>2011</td>\n",
              "      <td>2</td>\n",
              "      <td>dance pop, pop rap</td>\n",
              "      <td>0.0189</td>\n",
              "      <td>0.750</td>\n",
              "      <td>0.727</td>\n",
              "      <td>0.0</td>\n",
              "      <td>5</td>\n",
              "      <td>0.2660</td>\n",
              "      <td>-4.210</td>\n",
              "      <td>0</td>\n",
              "      <td>0.1420</td>\n",
              "      <td>129.993</td>\n",
              "      <td>4</td>\n",
              "      <td>0.359</td>\n",
              "      <td>0</td>\n",
              "      <td>2</td>\n",
              "    </tr>\n",
              "    <tr>\n",
              "      <th>2</th>\n",
              "      <td>4r6eNCsrZnQWJzzvFh4nlg</td>\n",
              "      <td>Firework</td>\n",
              "      <td>Katy Perry</td>\n",
              "      <td>2011</td>\n",
              "      <td>3</td>\n",
              "      <td>dance pop, pop, pop rap, post-teen pop</td>\n",
              "      <td>0.1410</td>\n",
              "      <td>0.638</td>\n",
              "      <td>0.832</td>\n",
              "      <td>0.0</td>\n",
              "      <td>8</td>\n",
              "      <td>0.1130</td>\n",
              "      <td>-5.039</td>\n",
              "      <td>1</td>\n",
              "      <td>0.0490</td>\n",
              "      <td>124.071</td>\n",
              "      <td>4</td>\n",
              "      <td>0.648</td>\n",
              "      <td>0</td>\n",
              "      <td>4</td>\n",
              "    </tr>\n",
              "    <tr>\n",
              "      <th>3</th>\n",
              "      <td>36ux3YuUsGTWPT8fXclS45</td>\n",
              "      <td>E.T.</td>\n",
              "      <td>Katy Perry Featuring Kanye West</td>\n",
              "      <td>2011</td>\n",
              "      <td>4</td>\n",
              "      <td>dance pop, pop, pop rap, post-teen pop, chicag...</td>\n",
              "      <td>0.0181</td>\n",
              "      <td>0.620</td>\n",
              "      <td>0.869</td>\n",
              "      <td>0.0</td>\n",
              "      <td>1</td>\n",
              "      <td>0.3690</td>\n",
              "      <td>-5.252</td>\n",
              "      <td>1</td>\n",
              "      <td>0.1750</td>\n",
              "      <td>151.684</td>\n",
              "      <td>4</td>\n",
              "      <td>0.760</td>\n",
              "      <td>0</td>\n",
              "      <td>6</td>\n",
              "    </tr>\n",
              "    <tr>\n",
              "      <th>4</th>\n",
              "      <td>4QNpBfC0zvjKqPJcyqBy9W</td>\n",
              "      <td>Give Me Everything (feat. Ne-Yo, Afrojack &amp; Na...</td>\n",
              "      <td>Pitbull Featuring Ne-Yo, Afrojack &amp; Nayer</td>\n",
              "      <td>2011</td>\n",
              "      <td>5</td>\n",
              "      <td>pop, pop rap, dance pop</td>\n",
              "      <td>0.1910</td>\n",
              "      <td>0.671</td>\n",
              "      <td>0.939</td>\n",
              "      <td>0.0</td>\n",
              "      <td>8</td>\n",
              "      <td>0.2980</td>\n",
              "      <td>-3.206</td>\n",
              "      <td>1</td>\n",
              "      <td>0.1610</td>\n",
              "      <td>129.024</td>\n",
              "      <td>4</td>\n",
              "      <td>0.530</td>\n",
              "      <td>0</td>\n",
              "      <td>3</td>\n",
              "    </tr>\n",
              "  </tbody>\n",
              "</table>\n",
              "</div>"
            ],
            "text/plain": [
              "               Spotify ID  ... Genre Count\n",
              "0  1c8gk2PeTE04A1pIDH9YMk  ...           4\n",
              "1  0IkKz2J93C94Ei4BvDop7P  ...           2\n",
              "2  4r6eNCsrZnQWJzzvFh4nlg  ...           4\n",
              "3  36ux3YuUsGTWPT8fXclS45  ...           6\n",
              "4  4QNpBfC0zvjKqPJcyqBy9W  ...           3\n",
              "\n",
              "[5 rows x 20 columns]"
            ]
          },
          "metadata": {},
          "execution_count": 11
        }
      ]
    },
    {
      "cell_type": "code",
      "metadata": {
        "colab": {
          "base_uri": "https://localhost:8080/"
        },
        "id": "JXZB0c24prfv",
        "outputId": "aa79d0c8-989b-4bf9-afb3-7860fc37de69"
      },
      "source": [
        "# checking how many songs contain a 'top genre'\n",
        "song_genre_dictionary = {}\n",
        "\n",
        "contains_top_song = []\n",
        "\n",
        "for i in range(0, len(song_genres)):\n",
        "    song_genre_dictionary[i] = []\n",
        "    song_genres_unformatted = song_genres[i].split(',')\n",
        "    song_genres_formatted = [song.strip() for song in song_genres_unformatted]\n",
        "    song_genre_dictionary[i] += song_genres_formatted\n",
        "\n",
        "\n",
        "for genres_of_song in song_genre_dictionary.values():\n",
        "    if any(x in top_genres for x in genres_of_song):\n",
        "        contains_top_song.append(True)\n",
        "    else:\n",
        "        contains_top_song.append(False)\n",
        "# print(contains_top_song)\n",
        "print(f'Total number of songs: {len(contains_top_song)}')\n",
        "print(f'\\nNumber of songs that do not contain a \\'top genre\\' in its genres: {contains_top_song.count(False)}')"
      ],
      "execution_count": 12,
      "outputs": [
        {
          "output_type": "stream",
          "name": "stdout",
          "text": [
            "Total number of songs: 905\n",
            "\n",
            "Number of songs that do not contain a 'top genre' in its genres: 59\n"
          ]
        }
      ]
    },
    {
      "cell_type": "markdown",
      "metadata": {
        "id": "ODFpstU93fmI"
      },
      "source": [
        "* Originally checking if songs on the list did not contain a 'top genre', it was realized that since each song is categorized under multiple genres only 59 songs did not mention at least one of the top genres occuring, if not many\n",
        "* Since genres is not numerical and only **59 songs** out of 905 songs **did not contain atleast 1 top genre**, we decided to exclude using genres as a feature label in our classification analysis"
      ]
    },
    {
      "cell_type": "markdown",
      "metadata": {
        "id": "2zufmUXwJLwA"
      },
      "source": [
        "### Establishing Classifying Labels for Data"
      ]
    },
    {
      "cell_type": "code",
      "metadata": {
        "id": "SgQcqlzsGrrG",
        "colab": {
          "base_uri": "https://localhost:8080/",
          "height": 1000
        },
        "outputId": "87f1cb6e-81f2-41d0-c9dd-5ff45dad44ca"
      },
      "source": [
        "# we want to confirm if decision tree will be able to classify a song as\n",
        "# top 50, top 25, and/or 10 rankings of it's year\n",
        "\n",
        "rankings = song_df['Rank'].to_list()\n",
        "\n",
        "rankings = [int(rank) for rank in rankings]\n",
        "\n",
        "# print(rankings)\n",
        "\n",
        "is_in_rank_range = lambda rank_range, rank: rank <= rank_range\n",
        "\n",
        "song_df['Top 50'] = [is_in_rank_range(50,rankings[i]) for i in range(len(rankings))]\n",
        "song_df['Top 25'] = [is_in_rank_range(25,rankings[i]) for i in range(len(rankings))]\n",
        "song_df['Top 10'] = [is_in_rank_range(10,rankings[i]) for i in range(len(rankings))]\n",
        "\n",
        "song_df[:15]"
      ],
      "execution_count": 13,
      "outputs": [
        {
          "output_type": "execute_result",
          "data": {
            "text/html": [
              "<div>\n",
              "<style scoped>\n",
              "    .dataframe tbody tr th:only-of-type {\n",
              "        vertical-align: middle;\n",
              "    }\n",
              "\n",
              "    .dataframe tbody tr th {\n",
              "        vertical-align: top;\n",
              "    }\n",
              "\n",
              "    .dataframe thead th {\n",
              "        text-align: right;\n",
              "    }\n",
              "</style>\n",
              "<table border=\"1\" class=\"dataframe\">\n",
              "  <thead>\n",
              "    <tr style=\"text-align: right;\">\n",
              "      <th></th>\n",
              "      <th>Spotify ID</th>\n",
              "      <th>Title</th>\n",
              "      <th>Artists</th>\n",
              "      <th>Year</th>\n",
              "      <th>Rank</th>\n",
              "      <th>Genres</th>\n",
              "      <th>Acousticness</th>\n",
              "      <th>Danceability</th>\n",
              "      <th>Energy</th>\n",
              "      <th>Instrumentalness</th>\n",
              "      <th>Key</th>\n",
              "      <th>Liveness</th>\n",
              "      <th>Loudness</th>\n",
              "      <th>Mode</th>\n",
              "      <th>Speechiness</th>\n",
              "      <th>Tempo</th>\n",
              "      <th>Time Signature</th>\n",
              "      <th>Valence</th>\n",
              "      <th>Top 100</th>\n",
              "      <th>Genre Count</th>\n",
              "      <th>Top 50</th>\n",
              "      <th>Top 25</th>\n",
              "      <th>Top 10</th>\n",
              "    </tr>\n",
              "  </thead>\n",
              "  <tbody>\n",
              "    <tr>\n",
              "      <th>0</th>\n",
              "      <td>1c8gk2PeTE04A1pIDH9YMk</td>\n",
              "      <td>Rolling in the Deep</td>\n",
              "      <td>Adele</td>\n",
              "      <td>2011</td>\n",
              "      <td>1</td>\n",
              "      <td>british soul, pop, pop soul, uk pop</td>\n",
              "      <td>0.13800</td>\n",
              "      <td>0.730</td>\n",
              "      <td>0.769</td>\n",
              "      <td>0.000000</td>\n",
              "      <td>8</td>\n",
              "      <td>0.0473</td>\n",
              "      <td>-5.114</td>\n",
              "      <td>1</td>\n",
              "      <td>0.0298</td>\n",
              "      <td>104.948</td>\n",
              "      <td>4</td>\n",
              "      <td>0.507</td>\n",
              "      <td>0</td>\n",
              "      <td>4</td>\n",
              "      <td>True</td>\n",
              "      <td>True</td>\n",
              "      <td>True</td>\n",
              "    </tr>\n",
              "    <tr>\n",
              "      <th>1</th>\n",
              "      <td>0IkKz2J93C94Ei4BvDop7P</td>\n",
              "      <td>Party Rock Anthem</td>\n",
              "      <td>LMFAO Featuring Lauren Bennett &amp; GoonRock</td>\n",
              "      <td>2011</td>\n",
              "      <td>2</td>\n",
              "      <td>dance pop, pop rap</td>\n",
              "      <td>0.01890</td>\n",
              "      <td>0.750</td>\n",
              "      <td>0.727</td>\n",
              "      <td>0.000000</td>\n",
              "      <td>5</td>\n",
              "      <td>0.2660</td>\n",
              "      <td>-4.210</td>\n",
              "      <td>0</td>\n",
              "      <td>0.1420</td>\n",
              "      <td>129.993</td>\n",
              "      <td>4</td>\n",
              "      <td>0.359</td>\n",
              "      <td>0</td>\n",
              "      <td>2</td>\n",
              "      <td>True</td>\n",
              "      <td>True</td>\n",
              "      <td>True</td>\n",
              "    </tr>\n",
              "    <tr>\n",
              "      <th>2</th>\n",
              "      <td>4r6eNCsrZnQWJzzvFh4nlg</td>\n",
              "      <td>Firework</td>\n",
              "      <td>Katy Perry</td>\n",
              "      <td>2011</td>\n",
              "      <td>3</td>\n",
              "      <td>dance pop, pop, pop rap, post-teen pop</td>\n",
              "      <td>0.14100</td>\n",
              "      <td>0.638</td>\n",
              "      <td>0.832</td>\n",
              "      <td>0.000000</td>\n",
              "      <td>8</td>\n",
              "      <td>0.1130</td>\n",
              "      <td>-5.039</td>\n",
              "      <td>1</td>\n",
              "      <td>0.0490</td>\n",
              "      <td>124.071</td>\n",
              "      <td>4</td>\n",
              "      <td>0.648</td>\n",
              "      <td>0</td>\n",
              "      <td>4</td>\n",
              "      <td>True</td>\n",
              "      <td>True</td>\n",
              "      <td>True</td>\n",
              "    </tr>\n",
              "    <tr>\n",
              "      <th>3</th>\n",
              "      <td>36ux3YuUsGTWPT8fXclS45</td>\n",
              "      <td>E.T.</td>\n",
              "      <td>Katy Perry Featuring Kanye West</td>\n",
              "      <td>2011</td>\n",
              "      <td>4</td>\n",
              "      <td>dance pop, pop, pop rap, post-teen pop, chicag...</td>\n",
              "      <td>0.01810</td>\n",
              "      <td>0.620</td>\n",
              "      <td>0.869</td>\n",
              "      <td>0.000000</td>\n",
              "      <td>1</td>\n",
              "      <td>0.3690</td>\n",
              "      <td>-5.252</td>\n",
              "      <td>1</td>\n",
              "      <td>0.1750</td>\n",
              "      <td>151.684</td>\n",
              "      <td>4</td>\n",
              "      <td>0.760</td>\n",
              "      <td>0</td>\n",
              "      <td>6</td>\n",
              "      <td>True</td>\n",
              "      <td>True</td>\n",
              "      <td>True</td>\n",
              "    </tr>\n",
              "    <tr>\n",
              "      <th>4</th>\n",
              "      <td>4QNpBfC0zvjKqPJcyqBy9W</td>\n",
              "      <td>Give Me Everything (feat. Ne-Yo, Afrojack &amp; Na...</td>\n",
              "      <td>Pitbull Featuring Ne-Yo, Afrojack &amp; Nayer</td>\n",
              "      <td>2011</td>\n",
              "      <td>5</td>\n",
              "      <td>pop, pop rap, dance pop</td>\n",
              "      <td>0.19100</td>\n",
              "      <td>0.671</td>\n",
              "      <td>0.939</td>\n",
              "      <td>0.000000</td>\n",
              "      <td>8</td>\n",
              "      <td>0.2980</td>\n",
              "      <td>-3.206</td>\n",
              "      <td>1</td>\n",
              "      <td>0.1610</td>\n",
              "      <td>129.024</td>\n",
              "      <td>4</td>\n",
              "      <td>0.530</td>\n",
              "      <td>0</td>\n",
              "      <td>3</td>\n",
              "      <td>True</td>\n",
              "      <td>True</td>\n",
              "      <td>True</td>\n",
              "    </tr>\n",
              "    <tr>\n",
              "      <th>5</th>\n",
              "      <td>2tJulUYLDKOg9XrtVkMgcJ</td>\n",
              "      <td>Grenade</td>\n",
              "      <td>Bruno Mars</td>\n",
              "      <td>2011</td>\n",
              "      <td>6</td>\n",
              "      <td>dance pop, pop</td>\n",
              "      <td>0.14600</td>\n",
              "      <td>0.706</td>\n",
              "      <td>0.558</td>\n",
              "      <td>0.000000</td>\n",
              "      <td>2</td>\n",
              "      <td>0.1180</td>\n",
              "      <td>-7.237</td>\n",
              "      <td>0</td>\n",
              "      <td>0.0593</td>\n",
              "      <td>110.443</td>\n",
              "      <td>4</td>\n",
              "      <td>0.227</td>\n",
              "      <td>0</td>\n",
              "      <td>2</td>\n",
              "      <td>True</td>\n",
              "      <td>True</td>\n",
              "      <td>True</td>\n",
              "    </tr>\n",
              "    <tr>\n",
              "      <th>6</th>\n",
              "      <td>3hlksXnvbKogFdPbpO9vel</td>\n",
              "      <td>Super Bass</td>\n",
              "      <td>Nicki Minaj</td>\n",
              "      <td>2011</td>\n",
              "      <td>8</td>\n",
              "      <td>dance pop, hip pop, pop, pop rap, queens hip hop</td>\n",
              "      <td>0.27100</td>\n",
              "      <td>0.723</td>\n",
              "      <td>0.860</td>\n",
              "      <td>0.000005</td>\n",
              "      <td>11</td>\n",
              "      <td>0.5980</td>\n",
              "      <td>-4.357</td>\n",
              "      <td>1</td>\n",
              "      <td>0.2030</td>\n",
              "      <td>126.979</td>\n",
              "      <td>4</td>\n",
              "      <td>0.667</td>\n",
              "      <td>0</td>\n",
              "      <td>5</td>\n",
              "      <td>True</td>\n",
              "      <td>True</td>\n",
              "      <td>True</td>\n",
              "    </tr>\n",
              "    <tr>\n",
              "      <th>7</th>\n",
              "      <td>7LcfRTgAVTs5pQGEQgUEzN</td>\n",
              "      <td>Moves Like Jagger - Studio Recording From The ...</td>\n",
              "      <td>Maroon 5 Featuring Christina Aguilera</td>\n",
              "      <td>2011</td>\n",
              "      <td>9</td>\n",
              "      <td>pop</td>\n",
              "      <td>0.01110</td>\n",
              "      <td>0.722</td>\n",
              "      <td>0.758</td>\n",
              "      <td>0.000000</td>\n",
              "      <td>11</td>\n",
              "      <td>0.3080</td>\n",
              "      <td>-4.477</td>\n",
              "      <td>0</td>\n",
              "      <td>0.0471</td>\n",
              "      <td>128.047</td>\n",
              "      <td>4</td>\n",
              "      <td>0.620</td>\n",
              "      <td>0</td>\n",
              "      <td>1</td>\n",
              "      <td>True</td>\n",
              "      <td>True</td>\n",
              "      <td>True</td>\n",
              "    </tr>\n",
              "    <tr>\n",
              "      <th>8</th>\n",
              "      <td>0xuXRQJfxmdP6gvfDe2Z4L</td>\n",
              "      <td>Just Can't Get Enough - 2006 Remaster</td>\n",
              "      <td>The Black Eyed Peas</td>\n",
              "      <td>2011</td>\n",
              "      <td>10</td>\n",
              "      <td>dance rock, new romantic, new wave, permanent ...</td>\n",
              "      <td>0.41000</td>\n",
              "      <td>0.765</td>\n",
              "      <td>0.766</td>\n",
              "      <td>0.052000</td>\n",
              "      <td>0</td>\n",
              "      <td>0.1770</td>\n",
              "      <td>-9.374</td>\n",
              "      <td>1</td>\n",
              "      <td>0.0348</td>\n",
              "      <td>128.177</td>\n",
              "      <td>4</td>\n",
              "      <td>0.923</td>\n",
              "      <td>0</td>\n",
              "      <td>5</td>\n",
              "      <td>True</td>\n",
              "      <td>True</td>\n",
              "      <td>True</td>\n",
              "    </tr>\n",
              "    <tr>\n",
              "      <th>9</th>\n",
              "      <td>3C0nOe05EIt1390bVABLyN</td>\n",
              "      <td>On The Floor</td>\n",
              "      <td>Jennifer Lopez Featuring Pitbull</td>\n",
              "      <td>2011</td>\n",
              "      <td>11</td>\n",
              "      <td>pop, pop rap, dance pop</td>\n",
              "      <td>0.10500</td>\n",
              "      <td>0.730</td>\n",
              "      <td>0.777</td>\n",
              "      <td>0.000478</td>\n",
              "      <td>3</td>\n",
              "      <td>0.0691</td>\n",
              "      <td>-5.194</td>\n",
              "      <td>0</td>\n",
              "      <td>0.0496</td>\n",
              "      <td>130.000</td>\n",
              "      <td>4</td>\n",
              "      <td>0.575</td>\n",
              "      <td>0</td>\n",
              "      <td>3</td>\n",
              "      <td>True</td>\n",
              "      <td>True</td>\n",
              "      <td>False</td>\n",
              "    </tr>\n",
              "    <tr>\n",
              "      <th>10</th>\n",
              "      <td>7ySUcLPVX7KudhnmNcgY2D</td>\n",
              "      <td>S&amp;M</td>\n",
              "      <td>Rihanna</td>\n",
              "      <td>2011</td>\n",
              "      <td>12</td>\n",
              "      <td>barbadian pop, dance pop, pop, pop rap, urban ...</td>\n",
              "      <td>0.01050</td>\n",
              "      <td>0.769</td>\n",
              "      <td>0.684</td>\n",
              "      <td>0.000125</td>\n",
              "      <td>1</td>\n",
              "      <td>0.0887</td>\n",
              "      <td>-5.019</td>\n",
              "      <td>1</td>\n",
              "      <td>0.0411</td>\n",
              "      <td>127.972</td>\n",
              "      <td>4</td>\n",
              "      <td>0.835</td>\n",
              "      <td>0</td>\n",
              "      <td>5</td>\n",
              "      <td>True</td>\n",
              "      <td>True</td>\n",
              "      <td>False</td>\n",
              "    </tr>\n",
              "    <tr>\n",
              "      <th>11</th>\n",
              "      <td>7w87IxuO7BDcJ3YUqCyMTT</td>\n",
              "      <td>Pumped Up Kicks</td>\n",
              "      <td>Foster The People</td>\n",
              "      <td>2011</td>\n",
              "      <td>13</td>\n",
              "      <td>indietronica, modern alternative rock, modern ...</td>\n",
              "      <td>0.14500</td>\n",
              "      <td>0.733</td>\n",
              "      <td>0.710</td>\n",
              "      <td>0.115000</td>\n",
              "      <td>5</td>\n",
              "      <td>0.0956</td>\n",
              "      <td>-5.849</td>\n",
              "      <td>0</td>\n",
              "      <td>0.0292</td>\n",
              "      <td>127.975</td>\n",
              "      <td>4</td>\n",
              "      <td>0.965</td>\n",
              "      <td>0</td>\n",
              "      <td>5</td>\n",
              "      <td>True</td>\n",
              "      <td>True</td>\n",
              "      <td>False</td>\n",
              "    </tr>\n",
              "    <tr>\n",
              "      <th>12</th>\n",
              "      <td>3avYqdwHKEq8beXbeWCKqJ</td>\n",
              "      <td>Last Friday Night (T.G.I.F.)</td>\n",
              "      <td>Katy Perry</td>\n",
              "      <td>2011</td>\n",
              "      <td>14</td>\n",
              "      <td>dance pop, pop, pop rap, post-teen pop</td>\n",
              "      <td>0.00125</td>\n",
              "      <td>0.652</td>\n",
              "      <td>0.812</td>\n",
              "      <td>0.000030</td>\n",
              "      <td>3</td>\n",
              "      <td>0.6670</td>\n",
              "      <td>-3.797</td>\n",
              "      <td>0</td>\n",
              "      <td>0.0409</td>\n",
              "      <td>126.023</td>\n",
              "      <td>4</td>\n",
              "      <td>0.720</td>\n",
              "      <td>0</td>\n",
              "      <td>4</td>\n",
              "      <td>True</td>\n",
              "      <td>True</td>\n",
              "      <td>False</td>\n",
              "    </tr>\n",
              "    <tr>\n",
              "      <th>13</th>\n",
              "      <td>7BqBn9nzAq8spo5e7cZ0dJ</td>\n",
              "      <td>Just the Way You Are</td>\n",
              "      <td>Bruno Mars</td>\n",
              "      <td>2011</td>\n",
              "      <td>15</td>\n",
              "      <td>dance pop, pop</td>\n",
              "      <td>0.01510</td>\n",
              "      <td>0.637</td>\n",
              "      <td>0.843</td>\n",
              "      <td>0.000000</td>\n",
              "      <td>5</td>\n",
              "      <td>0.0876</td>\n",
              "      <td>-5.413</td>\n",
              "      <td>1</td>\n",
              "      <td>0.0432</td>\n",
              "      <td>109.012</td>\n",
              "      <td>4</td>\n",
              "      <td>0.434</td>\n",
              "      <td>0</td>\n",
              "      <td>2</td>\n",
              "      <td>True</td>\n",
              "      <td>True</td>\n",
              "      <td>False</td>\n",
              "    </tr>\n",
              "    <tr>\n",
              "      <th>14</th>\n",
              "      <td>1gv4xPanImH17bKZ9rOveR</td>\n",
              "      <td>Raise Your Glass</td>\n",
              "      <td>P!nk</td>\n",
              "      <td>2011</td>\n",
              "      <td>17</td>\n",
              "      <td>dance pop, pop</td>\n",
              "      <td>0.00480</td>\n",
              "      <td>0.700</td>\n",
              "      <td>0.709</td>\n",
              "      <td>0.000000</td>\n",
              "      <td>7</td>\n",
              "      <td>0.0289</td>\n",
              "      <td>-5.006</td>\n",
              "      <td>1</td>\n",
              "      <td>0.0839</td>\n",
              "      <td>122.019</td>\n",
              "      <td>4</td>\n",
              "      <td>0.625</td>\n",
              "      <td>0</td>\n",
              "      <td>2</td>\n",
              "      <td>True</td>\n",
              "      <td>True</td>\n",
              "      <td>False</td>\n",
              "    </tr>\n",
              "  </tbody>\n",
              "</table>\n",
              "</div>"
            ],
            "text/plain": [
              "                Spotify ID  ... Top 10\n",
              "0   1c8gk2PeTE04A1pIDH9YMk  ...   True\n",
              "1   0IkKz2J93C94Ei4BvDop7P  ...   True\n",
              "2   4r6eNCsrZnQWJzzvFh4nlg  ...   True\n",
              "3   36ux3YuUsGTWPT8fXclS45  ...   True\n",
              "4   4QNpBfC0zvjKqPJcyqBy9W  ...   True\n",
              "5   2tJulUYLDKOg9XrtVkMgcJ  ...   True\n",
              "6   3hlksXnvbKogFdPbpO9vel  ...   True\n",
              "7   7LcfRTgAVTs5pQGEQgUEzN  ...   True\n",
              "8   0xuXRQJfxmdP6gvfDe2Z4L  ...   True\n",
              "9   3C0nOe05EIt1390bVABLyN  ...  False\n",
              "10  7ySUcLPVX7KudhnmNcgY2D  ...  False\n",
              "11  7w87IxuO7BDcJ3YUqCyMTT  ...  False\n",
              "12  3avYqdwHKEq8beXbeWCKqJ  ...  False\n",
              "13  7BqBn9nzAq8spo5e7cZ0dJ  ...  False\n",
              "14  1gv4xPanImH17bKZ9rOveR  ...  False\n",
              "\n",
              "[15 rows x 23 columns]"
            ]
          },
          "metadata": {},
          "execution_count": 13
        }
      ]
    },
    {
      "cell_type": "markdown",
      "metadata": {
        "id": "drdQe-W-NMHU"
      },
      "source": [
        "### Establishing Feature Matrix\n",
        "* To specifically focus on the **features of the track audio analysis**, feature matrix `X` include: \n",
        "    * Acousticness\n",
        "    * Danceability\n",
        "    * Energy\n",
        "    * Instrumentalness\n",
        "    * Key\n",
        "    * Liveness\n",
        "    * Loudness\n",
        "    * Mode\n",
        "    * Speechiness\n",
        "    * Tempo\n",
        "    * Time Signature\n",
        "    * Valence"
      ]
    },
    {
      "cell_type": "code",
      "metadata": {
        "colab": {
          "base_uri": "https://localhost:8080/",
          "height": 206
        },
        "id": "cGdvQ0XhqK4s",
        "outputId": "2a32b1f0-c412-4201-f8ee-dd094004a06b"
      },
      "source": [
        "feature_labels =   ['Acousticness', 'Danceability', 'Energy', \n",
        "                    'Instrumentalness', 'Key',  'Liveness', 'Loudness',\n",
        "                    'Mode', 'Speechiness', 'Tempo', 'Time Signature', 'Valence']\n",
        "\n",
        "X = song_df[feature_labels]\n",
        "X.head()"
      ],
      "execution_count": 14,
      "outputs": [
        {
          "output_type": "execute_result",
          "data": {
            "text/html": [
              "<div>\n",
              "<style scoped>\n",
              "    .dataframe tbody tr th:only-of-type {\n",
              "        vertical-align: middle;\n",
              "    }\n",
              "\n",
              "    .dataframe tbody tr th {\n",
              "        vertical-align: top;\n",
              "    }\n",
              "\n",
              "    .dataframe thead th {\n",
              "        text-align: right;\n",
              "    }\n",
              "</style>\n",
              "<table border=\"1\" class=\"dataframe\">\n",
              "  <thead>\n",
              "    <tr style=\"text-align: right;\">\n",
              "      <th></th>\n",
              "      <th>Acousticness</th>\n",
              "      <th>Danceability</th>\n",
              "      <th>Energy</th>\n",
              "      <th>Instrumentalness</th>\n",
              "      <th>Key</th>\n",
              "      <th>Liveness</th>\n",
              "      <th>Loudness</th>\n",
              "      <th>Mode</th>\n",
              "      <th>Speechiness</th>\n",
              "      <th>Tempo</th>\n",
              "      <th>Time Signature</th>\n",
              "      <th>Valence</th>\n",
              "    </tr>\n",
              "  </thead>\n",
              "  <tbody>\n",
              "    <tr>\n",
              "      <th>0</th>\n",
              "      <td>0.1380</td>\n",
              "      <td>0.730</td>\n",
              "      <td>0.769</td>\n",
              "      <td>0.0</td>\n",
              "      <td>8</td>\n",
              "      <td>0.0473</td>\n",
              "      <td>-5.114</td>\n",
              "      <td>1</td>\n",
              "      <td>0.0298</td>\n",
              "      <td>104.948</td>\n",
              "      <td>4</td>\n",
              "      <td>0.507</td>\n",
              "    </tr>\n",
              "    <tr>\n",
              "      <th>1</th>\n",
              "      <td>0.0189</td>\n",
              "      <td>0.750</td>\n",
              "      <td>0.727</td>\n",
              "      <td>0.0</td>\n",
              "      <td>5</td>\n",
              "      <td>0.2660</td>\n",
              "      <td>-4.210</td>\n",
              "      <td>0</td>\n",
              "      <td>0.1420</td>\n",
              "      <td>129.993</td>\n",
              "      <td>4</td>\n",
              "      <td>0.359</td>\n",
              "    </tr>\n",
              "    <tr>\n",
              "      <th>2</th>\n",
              "      <td>0.1410</td>\n",
              "      <td>0.638</td>\n",
              "      <td>0.832</td>\n",
              "      <td>0.0</td>\n",
              "      <td>8</td>\n",
              "      <td>0.1130</td>\n",
              "      <td>-5.039</td>\n",
              "      <td>1</td>\n",
              "      <td>0.0490</td>\n",
              "      <td>124.071</td>\n",
              "      <td>4</td>\n",
              "      <td>0.648</td>\n",
              "    </tr>\n",
              "    <tr>\n",
              "      <th>3</th>\n",
              "      <td>0.0181</td>\n",
              "      <td>0.620</td>\n",
              "      <td>0.869</td>\n",
              "      <td>0.0</td>\n",
              "      <td>1</td>\n",
              "      <td>0.3690</td>\n",
              "      <td>-5.252</td>\n",
              "      <td>1</td>\n",
              "      <td>0.1750</td>\n",
              "      <td>151.684</td>\n",
              "      <td>4</td>\n",
              "      <td>0.760</td>\n",
              "    </tr>\n",
              "    <tr>\n",
              "      <th>4</th>\n",
              "      <td>0.1910</td>\n",
              "      <td>0.671</td>\n",
              "      <td>0.939</td>\n",
              "      <td>0.0</td>\n",
              "      <td>8</td>\n",
              "      <td>0.2980</td>\n",
              "      <td>-3.206</td>\n",
              "      <td>1</td>\n",
              "      <td>0.1610</td>\n",
              "      <td>129.024</td>\n",
              "      <td>4</td>\n",
              "      <td>0.530</td>\n",
              "    </tr>\n",
              "  </tbody>\n",
              "</table>\n",
              "</div>"
            ],
            "text/plain": [
              "   Acousticness  Danceability  Energy  ...    Tempo  Time Signature  Valence\n",
              "0        0.1380         0.730   0.769  ...  104.948               4    0.507\n",
              "1        0.0189         0.750   0.727  ...  129.993               4    0.359\n",
              "2        0.1410         0.638   0.832  ...  124.071               4    0.648\n",
              "3        0.0181         0.620   0.869  ...  151.684               4    0.760\n",
              "4        0.1910         0.671   0.939  ...  129.024               4    0.530\n",
              "\n",
              "[5 rows x 12 columns]"
            ]
          },
          "metadata": {},
          "execution_count": 14
        }
      ]
    },
    {
      "cell_type": "markdown",
      "metadata": {
        "id": "NCWyQHB61-70"
      },
      "source": [
        "# Classifications on Dataset"
      ]
    },
    {
      "cell_type": "markdown",
      "metadata": {
        "id": "XoMOya8P2Iz3"
      },
      "source": [
        "## 1) Decision Tree Classification\n",
        "* Dataset **Labels**: \n",
        "    * `y1` : Track is **Top 50**\n",
        "    * `y2` : Track is **Top 25**\n",
        "    * `y3` : Track is **Top 10**\n",
        "\n",
        "* Starting with Decision Tree Classification of each label range, we **will move forward classifying the data using the most accurate label range** between `y1`, `y2`, and `y3`"
      ]
    },
    {
      "cell_type": "code",
      "metadata": {
        "colab": {
          "base_uri": "https://localhost:8080/"
        },
        "id": "21nTM2j5r-AZ",
        "outputId": "35bfcaa2-4183-44e1-dd80-3d514358bf60"
      },
      "source": [
        "y1 = song_df['Top 50']\n",
        "y2 = song_df['Top 25']\n",
        "y3 = song_df['Top 10']\n",
        "\n",
        "y1"
      ],
      "execution_count": 15,
      "outputs": [
        {
          "output_type": "execute_result",
          "data": {
            "text/plain": [
              "0       True\n",
              "1       True\n",
              "2       True\n",
              "3       True\n",
              "4       True\n",
              "       ...  \n",
              "900    False\n",
              "901    False\n",
              "902    False\n",
              "903    False\n",
              "904    False\n",
              "Name: Top 50, Length: 905, dtype: bool"
            ]
          },
          "metadata": {},
          "execution_count": 15
        }
      ]
    },
    {
      "cell_type": "markdown",
      "metadata": {
        "id": "nic9ZWutP2q8"
      },
      "source": [
        "### Keeping `test_size=0.25` and `random_state=3` constant for accurate comparisons across classifications"
      ]
    },
    {
      "cell_type": "markdown",
      "metadata": {
        "id": "bML9kQNxQaVm"
      },
      "source": [
        "### Decision Tree Testing/Training using `y1`"
      ]
    },
    {
      "cell_type": "code",
      "metadata": {
        "colab": {
          "base_uri": "https://localhost:8080/"
        },
        "id": "1XIJCl1isWlZ",
        "outputId": "d4be0438-c3a7-4b30-c183-5fa917735f42"
      },
      "source": [
        "X_train, X_test, y_train, y_test = train_test_split(X, y1, test_size=0.25, random_state=3)\n",
        "\n",
        "print(X_train.shape)\n",
        "print(y_train.shape)\n",
        "print(X_test.shape)\n",
        "print(y_test.shape)"
      ],
      "execution_count": 16,
      "outputs": [
        {
          "output_type": "stream",
          "name": "stdout",
          "text": [
            "(678, 12)\n",
            "(678,)\n",
            "(227, 12)\n",
            "(227,)\n"
          ]
        }
      ]
    },
    {
      "cell_type": "code",
      "metadata": {
        "id": "30FJ8ZdJs1BI"
      },
      "source": [
        "# method to obtain decision tree accuracy\n",
        "def accuracy_of_decision_tree(rs, X_training, y_training, X_testing, y_testing):\n",
        "        \"\"\"Returning accuracy of predictions for Decision Tree classifier, \n",
        "        given training and testing data and a specific value of random state \n",
        "        value, rs\"\"\"\n",
        "\n",
        "        # Create Instance of DecisionTreeClassifier passing parameter value 'rs'\n",
        "        my_DecisionTree = DecisionTreeClassifier(random_state=rs)\n",
        "\n",
        "        # Train model with \"fit\" method along with training dataset and labels\n",
        "        my_DecisionTree.fit(X_training, y_training)\n",
        "\n",
        "        # Generate label predictions vector\n",
        "        y_predictions = my_DecisionTree.predict(X_testing)\n",
        "\n",
        "        # print predictions for testing set\n",
        "        # print('Predictions for testing set:\\n')\n",
        "        # print(y_predictions)\n",
        "\n",
        "        return accuracy_score(y_testing, y_predictions)"
      ],
      "execution_count": 17,
      "outputs": []
    },
    {
      "cell_type": "code",
      "metadata": {
        "colab": {
          "base_uri": "https://localhost:8080/"
        },
        "id": "MBToPoiDs3P4",
        "outputId": "caff4425-3ea0-4d01-a334-e9ff911a8cd4"
      },
      "source": [
        "# obtain accuracy of decision tree\n",
        "random_state = 3\n",
        "\n",
        "dt_accuracy = accuracy_of_decision_tree(random_state, X_train, y_train, X_test, y_test)\n",
        "\n",
        "print(f'\\nAccuracy of Decision Tree classifier for Top 50 prediction, random_state={random_state}: {dt_accuracy}')"
      ],
      "execution_count": 18,
      "outputs": [
        {
          "output_type": "stream",
          "name": "stdout",
          "text": [
            "\n",
            "Accuracy of Decision Tree classifier for Top 50 prediction, random_state=3: 0.6255506607929515\n"
          ]
        }
      ]
    },
    {
      "cell_type": "markdown",
      "metadata": {
        "id": "kYp2PWJSQqK5"
      },
      "source": [
        "### Decision Tree Testing/Training using `y2`"
      ]
    },
    {
      "cell_type": "code",
      "metadata": {
        "colab": {
          "base_uri": "https://localhost:8080/"
        },
        "id": "jZmrgUOxs1Cd",
        "outputId": "0f8e1bf1-cc66-4d73-fa40-64b7a83634ff"
      },
      "source": [
        "X_train, X_test, y_train, y_test = train_test_split(X, y2, test_size=0.25, random_state=3)\n",
        "\n",
        "dt_accuracy = accuracy_of_decision_tree(random_state, X_train, y_train, X_test, y_test)\n",
        "\n",
        "print(f'\\nAccuracy of Decision Tree classifier for Top 25 prediction, random_state={random_state}: {dt_accuracy}')"
      ],
      "execution_count": 19,
      "outputs": [
        {
          "output_type": "stream",
          "name": "stdout",
          "text": [
            "\n",
            "Accuracy of Decision Tree classifier for Top 25 prediction, random_state=3: 0.7312775330396476\n"
          ]
        }
      ]
    },
    {
      "cell_type": "markdown",
      "metadata": {
        "id": "x8-Q6qgwQr-B"
      },
      "source": [
        "### Decision Tree Testing/Training using `y3`"
      ]
    },
    {
      "cell_type": "code",
      "metadata": {
        "colab": {
          "base_uri": "https://localhost:8080/"
        },
        "id": "TEz_87F4uRql",
        "outputId": "c31c1482-f1f6-4567-86ed-ecc1e18e2f99"
      },
      "source": [
        "X_train, X_test, y_train, y_test = train_test_split(X, y3, test_size=0.25, random_state=3)\n",
        "\n",
        "dt_accuracy = accuracy_of_decision_tree(random_state, X_train, y_train, X_test, y_test)\n",
        "\n",
        "print(f'\\nAccuracy of Decision Tree classifier for Top 10 prediction, random_state={random_state}: {dt_accuracy}')"
      ],
      "execution_count": 20,
      "outputs": [
        {
          "output_type": "stream",
          "name": "stdout",
          "text": [
            "\n",
            "Accuracy of Decision Tree classifier for Top 10 prediction, random_state=3: 0.8898678414096917\n"
          ]
        }
      ]
    },
    {
      "cell_type": "markdown",
      "metadata": {
        "id": "kBFfLppdQvhm"
      },
      "source": [
        "### Decision Tree Findings\n",
        "* The prediction accuracy increased as the ranking range decreased\n",
        "    * **May indicate commonality amongst top 10 songs' features**\n",
        "* Since using `y3`, Top 10, provided most accurate classification of 0.8898678414096917, we **will perform remaining classifications using `y3` as the label**"
      ]
    },
    {
      "cell_type": "markdown",
      "metadata": {
        "id": "boTxzOuc2RR0"
      },
      "source": [
        "## 2) KNN Classification\n",
        "* Initially performing KNN Classification using K=3"
      ]
    },
    {
      "cell_type": "code",
      "metadata": {
        "id": "geC0o24ruu_N"
      },
      "source": [
        "selected_k = 3"
      ],
      "execution_count": 21,
      "outputs": []
    },
    {
      "cell_type": "code",
      "metadata": {
        "id": "I6hwCd1E7bb6"
      },
      "source": [
        "# Returning accuracy of predictions for selected knn value\n",
        "def accuracy_of_knn(k, X_training, y_training, X_testing, y_testing):\n",
        "\n",
        "      # Create Instance of KNeighborsClassifier with parameter value of k\n",
        "      selected_k = k \n",
        "      selected_knn = KNeighborsClassifier(n_neighbors=selected_k)\n",
        "      \n",
        "      # Train model with \"fit\" method along with training dataset and labels .\n",
        "      selected_knn.fit(X_training, y_training)\n",
        "\n",
        "      # Use \"predict\" method of the *trained* object selected_knn on testing set\n",
        "      # Set 'y_prediction' to generated predictions for testing set\n",
        "      y_predictions = selected_knn.predict(X_testing)\n",
        "\n",
        "      # return overall accuracy of predicted labels vs actual values\n",
        "      return accuracy_score(y_testing, y_predictions)"
      ],
      "execution_count": 22,
      "outputs": []
    },
    {
      "cell_type": "code",
      "metadata": {
        "id": "y85hQXQR3cje",
        "colab": {
          "base_uri": "https://localhost:8080/",
          "height": 35
        },
        "outputId": "36d1b0c1-e691-4a7d-8972-b5e6d6134b60"
      },
      "source": [
        "\"\"\"Ignore, implemented out of curiousity of accuracy\"\"\"\n",
        "# y1 label = if a song is in the top 50\n",
        "# X_train, X_test, y_train, y_test = train_test_split(X, y1, test_size=0.25, random_state=3)\n",
        "\n",
        "# knn_3_top_50_accuracy = accuracy_of_knn(selected_k, X_train, y_train, X_test, y_test)\n",
        "\n",
        "# print(f'- KNN Classification\\n- k={selected_k}\\n- Prediction Accuracy of if song is in top 50 of year-end rankings: {knn_3_top_50_accuracy}')"
      ],
      "execution_count": 23,
      "outputs": [
        {
          "output_type": "execute_result",
          "data": {
            "application/vnd.google.colaboratory.intrinsic+json": {
              "type": "string"
            },
            "text/plain": [
              "'Ignore, implemented out of curiousity of accuracy'"
            ]
          },
          "metadata": {},
          "execution_count": 23
        }
      ]
    },
    {
      "cell_type": "code",
      "metadata": {
        "id": "HGP26t508Nq_",
        "colab": {
          "base_uri": "https://localhost:8080/",
          "height": 35
        },
        "outputId": "85efa4a3-07a5-4f64-9aa7-cede767bab8b"
      },
      "source": [
        "\"\"\"Ignore, implemented out of curiousity of accuracy\"\"\"\n",
        "# y2 label = if a song is in the top 25\n",
        "# X_train, X_test, y_train, y_test = train_test_split(X, y2, test_size=0.25, random_state=3)\n",
        "\n",
        "# knn_3_top_25_accuracy = accuracy_of_knn(selected_k, X_train, y_train, X_test, y_test)\n",
        "\n",
        "# print(f'- KNN Classification\\n- k={selected_k}\\n- Prediction Accuracy of if song is in top 25 of year-end rankings: {knn_3_top_25_accuracy}')"
      ],
      "execution_count": 24,
      "outputs": [
        {
          "output_type": "execute_result",
          "data": {
            "application/vnd.google.colaboratory.intrinsic+json": {
              "type": "string"
            },
            "text/plain": [
              "'Ignore, implemented out of curiousity of accuracy'"
            ]
          },
          "metadata": {},
          "execution_count": 24
        }
      ]
    },
    {
      "cell_type": "code",
      "metadata": {
        "id": "3AtguPtN7mth",
        "colab": {
          "base_uri": "https://localhost:8080/"
        },
        "outputId": "32d029c6-85c5-4db6-b97f-a3e61de81881"
      },
      "source": [
        "# y3 label = if a song is in the top 10\n",
        "X_train, X_test, y_train, y_test = train_test_split(X, y3, test_size=0.25, random_state=3)\n",
        "\n",
        "knn_3_top_10_accuracy = accuracy_of_knn(selected_k, X_train, y_train, X_test, y_test) \n",
        "\n",
        "print(f'- KNN Classification\\n- k={selected_k}\\n- Prediction Accuracy of if song is in top 10 of year-end rankings: {knn_3_top_10_accuracy}')"
      ],
      "execution_count": 25,
      "outputs": [
        {
          "output_type": "stream",
          "name": "stdout",
          "text": [
            "- KNN Classification\n",
            "- k=3\n",
            "- Prediction Accuracy of if song is in top 10 of year-end rankings: 0.8634361233480177\n"
          ]
        }
      ]
    },
    {
      "cell_type": "markdown",
      "metadata": {
        "id": "UatEzhUCSwHJ"
      },
      "source": [
        "###Testing the variation of 'K' values for KNN Classificatoin"
      ]
    },
    {
      "cell_type": "code",
      "metadata": {
        "id": "l7WUFQaE9xgE",
        "colab": {
          "base_uri": "https://localhost:8080/"
        },
        "outputId": "f1045c96-114d-4090-8105-1b99937a4892"
      },
      "source": [
        "# values of K to test\n",
        "k_test = [1, 3, 5, 7, 10, 15, 20]\n",
        "\n",
        "results = {}\n",
        "\n",
        "for k in k_test:\n",
        "        results[k] = accuracy_of_knn(k, X_train, y_train, X_test, y_test)\n",
        "\n",
        "print('Prediction Accuracy of if song is in top 10 of year-end rankings (with varying values of k):\\n')\n",
        "for key, value in results.items():\n",
        "        print(f'\\tFor K={key}, accuracy is: {value}\\n')"
      ],
      "execution_count": 26,
      "outputs": [
        {
          "output_type": "stream",
          "name": "stdout",
          "text": [
            "Prediction Accuracy of if song is in top 10 of year-end rankings (with varying values of k):\n",
            "\n",
            "\tFor K=1, accuracy is: 0.8325991189427313\n",
            "\n",
            "\tFor K=3, accuracy is: 0.8634361233480177\n",
            "\n",
            "\tFor K=5, accuracy is: 0.9030837004405287\n",
            "\n",
            "\tFor K=7, accuracy is: 0.8898678414096917\n",
            "\n",
            "\tFor K=10, accuracy is: 0.8942731277533039\n",
            "\n",
            "\tFor K=15, accuracy is: 0.8942731277533039\n",
            "\n",
            "\tFor K=20, accuracy is: 0.8942731277533039\n",
            "\n"
          ]
        }
      ]
    },
    {
      "cell_type": "markdown",
      "metadata": {
        "id": "MzsOVo_ITEm8"
      },
      "source": [
        "* KNN Classification most accurate when using `K=5`"
      ]
    },
    {
      "cell_type": "markdown",
      "metadata": {
        "id": "iKBhRs4_TQAI"
      },
      "source": [
        "###Testing if any unique feature can produce accurate prediction independent of other features"
      ]
    },
    {
      "cell_type": "code",
      "metadata": {
        "id": "r7YEHoo0-k_w"
      },
      "source": [
        "# assign x0, ..., x11 to each feature column of song_df\n",
        "\n",
        "x0 = song_df[[feature_labels[0]]]\n",
        "x1 = song_df[[feature_labels[1]]]\n",
        "x2 = song_df[[feature_labels[2]]]\n",
        "x3 = song_df[[feature_labels[3]]]\n",
        "x4 = song_df[[feature_labels[4]]]\n",
        "x5 = song_df[[feature_labels[5]]]\n",
        "x6 = song_df[[feature_labels[6]]]\n",
        "x7 = song_df[[feature_labels[7]]]\n",
        "x8 = song_df[[feature_labels[8]]]\n",
        "x9 = song_df[[feature_labels[9]]]\n",
        "x10 = song_df[[feature_labels[10]]]\n",
        "x11 = song_df[[feature_labels[10]]]\n",
        "\n",
        "\n",
        "feature_list = [x0, x1, x2, x3, x4, x5, x6, x7, x8, x9, x10,x11]\n"
      ],
      "execution_count": 27,
      "outputs": []
    },
    {
      "cell_type": "code",
      "metadata": {
        "id": "kFIZwy5QATqF"
      },
      "source": [
        "# method to train models dynamically for each new isolated feature matrix\n",
        "# using y3 since yields best accuracy\n",
        "def find_feature_accuracy(x_col, k):\n",
        "        X_train, X_test, y_train, y_test = train_test_split(x_col, y3, test_size=0.25, random_state=3)\n",
        "        return accuracy_of_knn(k, X_train, y_train, X_test, y_test)"
      ],
      "execution_count": 28,
      "outputs": []
    },
    {
      "cell_type": "code",
      "metadata": {
        "id": "ZlF8kPK4Ab0y",
        "colab": {
          "base_uri": "https://localhost:8080/"
        },
        "outputId": "a67fbbae-c17b-4e64-f32e-7b3f5633e67b"
      },
      "source": [
        "# dictionary to map name of feature to accuracy of feature column data\n",
        "# using k = 5 since yielded best accuracy\n",
        "\n",
        "feature_results = {}\n",
        "\n",
        "for i in range(0,11):\n",
        "        feature_results[feature_labels[i]] = find_feature_accuracy(feature_list[i], 5)\n",
        "\n",
        "most_accurate_feature = ''\n",
        "best_accuracy = 0\n",
        "for key, value in feature_results.items():\n",
        "        if value > best_accuracy:\n",
        "            most_accurate_feature = key\n",
        "            best_accuracy = value\n",
        "        print(f'For feature \\'{key}\\', accuracy is: {value}\\n')\n",
        "\n",
        "\n",
        "print(f'Most Accurate Feature: {most_accurate_feature}\\nAccuracy: {best_accuracy}\\n')"
      ],
      "execution_count": 29,
      "outputs": [
        {
          "output_type": "stream",
          "name": "stdout",
          "text": [
            "For feature 'Acousticness', accuracy is: 0.8766519823788547\n",
            "\n",
            "For feature 'Danceability', accuracy is: 0.8810572687224669\n",
            "\n",
            "For feature 'Energy', accuracy is: 0.8766519823788547\n",
            "\n",
            "For feature 'Instrumentalness', accuracy is: 0.8986784140969163\n",
            "\n",
            "For feature 'Key', accuracy is: 0.8942731277533039\n",
            "\n",
            "For feature 'Liveness', accuracy is: 0.8810572687224669\n",
            "\n",
            "For feature 'Loudness', accuracy is: 0.8810572687224669\n",
            "\n",
            "For feature 'Mode', accuracy is: 0.8942731277533039\n",
            "\n",
            "For feature 'Speechiness', accuracy is: 0.8810572687224669\n",
            "\n",
            "For feature 'Tempo', accuracy is: 0.8898678414096917\n",
            "\n",
            "For feature 'Time Signature', accuracy is: 0.8942731277533039\n",
            "\n",
            "Most Accurate Feature: Instrumentalness\n",
            "Accuracy: 0.8986784140969163\n",
            "\n"
          ]
        }
      ]
    },
    {
      "cell_type": "markdown",
      "metadata": {
        "id": "07ju3xDXTthw"
      },
      "source": [
        "* From the results it appears **Instrumentalness** provided most accurate prediction at 0.8986784140969163\n",
        "* Features with accuracy above 0.89 also included:\n",
        "    * Key\n",
        "    * Mode\n",
        "    * Time Signature\n",
        "* **All runner-up features scored same accuracy** of 0.8942731277533039"
      ]
    },
    {
      "cell_type": "markdown",
      "metadata": {
        "id": "OF_IToLuVL6W"
      },
      "source": [
        "###Testing if any unique combination of two features produce better accuracy than most accurate independent features and if pair producing best accuracy include a combination of the 4 most accurate independent features "
      ]
    },
    {
      "cell_type": "code",
      "metadata": {
        "id": "bVPYYovzCrf9"
      },
      "source": [
        "# create pair list for indexing each unique pair of feature labels\n",
        "pair_indexes = []\n",
        "for i in range(0,11):\n",
        "    for j in range(i+1,12):\n",
        "        pair_indexes.append([i, j])"
      ],
      "execution_count": 30,
      "outputs": []
    },
    {
      "cell_type": "code",
      "metadata": {
        "id": "oOqvJKx2Cu6t"
      },
      "source": [
        "# method to train models dynamically for each new feature pair matrix\n",
        "def find_feature_pair_accuracy(index1, index2, k):\n",
        "        feature_pair = song_df[[feature_labels[index1], feature_labels[index2]]]\n",
        "        X_train, X_test, y_train, y_test = train_test_split(feature_pair, y3, test_size=0.25, random_state=3)\n",
        "        return accuracy_of_knn(k, X_train, y_train, X_test, y_test)"
      ],
      "execution_count": 31,
      "outputs": []
    },
    {
      "cell_type": "code",
      "metadata": {
        "id": "SExjPI5fCXme"
      },
      "source": [
        "# pass pairs of features to feature pair accuracy method\n",
        "accuracy_by_pair = lambda f1,f2, k: find_feature_pair_accuracy(f1, f2, k)"
      ],
      "execution_count": 32,
      "outputs": []
    },
    {
      "cell_type": "code",
      "metadata": {
        "id": "P18y6L3CCaiw",
        "colab": {
          "base_uri": "https://localhost:8080/"
        },
        "outputId": "b5117bb9-e206-465a-c05a-da5b6a9bd09f"
      },
      "source": [
        "# dictionary to map name of features to accuracy of feature columns data combination\n",
        "feature_pair_results = []\n",
        "top_pair_info = ['', 0]\n",
        "top_pair_info2 = ['', 0]\n",
        "top_pair_info3 = ['', 0]\n",
        "\n",
        "\n",
        "\n",
        "for i in range(0,len(pair_indexes)):\n",
        "        feature_pair_results.append([])\n",
        "        feature_pair_results[i].append(feature_labels[pair_indexes[i][0]])\n",
        "        feature_pair_results[i].append(feature_labels[pair_indexes[i][1]])\n",
        "        feature_pair_results[i].append(find_feature_pair_accuracy(pair_indexes[i][0], pair_indexes[i][1], 5))\n",
        "\n",
        "        if find_feature_pair_accuracy(pair_indexes[i][0], pair_indexes[i][1], 5) > top_pair_info[1]:\n",
        "            top_pair_info2[0], top_pair_info2[1] = top_pair_info[0], top_pair_info[1]\n",
        "            top_pair_info[0] = feature_labels[pair_indexes[i][0]] + \" and \" + feature_labels[pair_indexes[i][1]]\n",
        "            top_pair_info[1] = find_feature_pair_accuracy(pair_indexes[i][0], pair_indexes[i][1], 5)\n",
        "\n",
        "        elif find_feature_pair_accuracy(pair_indexes[i][0], pair_indexes[i][1], 5) > top_pair_info2[1]:\n",
        "            top_pair_info3[0], top_pair_info3[1] = top_pair_info2[0], top_pair_info2[1]\n",
        "            top_pair_info2[0] = feature_labels[pair_indexes[i][0]] + \" and \" + feature_labels[pair_indexes[i][1]]\n",
        "            top_pair_info2[1] = find_feature_pair_accuracy(pair_indexes[i][0], pair_indexes[i][1], 5)\n",
        "        \n",
        "        elif find_feature_pair_accuracy(pair_indexes[i][0], pair_indexes[i][1], 5) > top_pair_info3[1]:\n",
        "            top_pair_info3[0] = feature_labels[pair_indexes[i][0]] + \" and \" + feature_labels[pair_indexes[i][1]]\n",
        "            top_pair_info3[1] = find_feature_pair_accuracy(pair_indexes[i][0], pair_indexes[i][1], 5)\n",
        "\n",
        "\n",
        "\n",
        "for data in feature_pair_results:\n",
        "        print(f'For feature pair \\'{data[0]}\\' and \\'{data[1]}\\', accuracy is: {data[2]}\\n')\n"
      ],
      "execution_count": 33,
      "outputs": [
        {
          "output_type": "stream",
          "name": "stdout",
          "text": [
            "For feature pair 'Acousticness' and 'Danceability', accuracy is: 0.8942731277533039\n",
            "\n",
            "For feature pair 'Acousticness' and 'Energy', accuracy is: 0.8766519823788547\n",
            "\n",
            "For feature pair 'Acousticness' and 'Instrumentalness', accuracy is: 0.8942731277533039\n",
            "\n",
            "For feature pair 'Acousticness' and 'Key', accuracy is: 0.8854625550660793\n",
            "\n",
            "For feature pair 'Acousticness' and 'Liveness', accuracy is: 0.8766519823788547\n",
            "\n",
            "For feature pair 'Acousticness' and 'Loudness', accuracy is: 0.8810572687224669\n",
            "\n",
            "For feature pair 'Acousticness' and 'Mode', accuracy is: 0.8810572687224669\n",
            "\n",
            "For feature pair 'Acousticness' and 'Speechiness', accuracy is: 0.8854625550660793\n",
            "\n",
            "For feature pair 'Acousticness' and 'Tempo', accuracy is: 0.8722466960352423\n",
            "\n",
            "For feature pair 'Acousticness' and 'Time Signature', accuracy is: 0.8766519823788547\n",
            "\n",
            "For feature pair 'Acousticness' and 'Valence', accuracy is: 0.8898678414096917\n",
            "\n",
            "For feature pair 'Danceability' and 'Energy', accuracy is: 0.8546255506607929\n",
            "\n",
            "For feature pair 'Danceability' and 'Instrumentalness', accuracy is: 0.8766519823788547\n",
            "\n",
            "For feature pair 'Danceability' and 'Key', accuracy is: 0.8766519823788547\n",
            "\n",
            "For feature pair 'Danceability' and 'Liveness', accuracy is: 0.8766519823788547\n",
            "\n",
            "For feature pair 'Danceability' and 'Loudness', accuracy is: 0.8810572687224669\n",
            "\n",
            "For feature pair 'Danceability' and 'Mode', accuracy is: 0.8854625550660793\n",
            "\n",
            "For feature pair 'Danceability' and 'Speechiness', accuracy is: 0.8854625550660793\n",
            "\n",
            "For feature pair 'Danceability' and 'Tempo', accuracy is: 0.8810572687224669\n",
            "\n",
            "For feature pair 'Danceability' and 'Time Signature', accuracy is: 0.8942731277533039\n",
            "\n",
            "For feature pair 'Danceability' and 'Valence', accuracy is: 0.8898678414096917\n",
            "\n",
            "For feature pair 'Energy' and 'Instrumentalness', accuracy is: 0.8810572687224669\n",
            "\n",
            "For feature pair 'Energy' and 'Key', accuracy is: 0.8810572687224669\n",
            "\n",
            "For feature pair 'Energy' and 'Liveness', accuracy is: 0.8898678414096917\n",
            "\n",
            "For feature pair 'Energy' and 'Loudness', accuracy is: 0.8810572687224669\n",
            "\n",
            "For feature pair 'Energy' and 'Mode', accuracy is: 0.8722466960352423\n",
            "\n",
            "For feature pair 'Energy' and 'Speechiness', accuracy is: 0.8722466960352423\n",
            "\n",
            "For feature pair 'Energy' and 'Tempo', accuracy is: 0.8766519823788547\n",
            "\n",
            "For feature pair 'Energy' and 'Time Signature', accuracy is: 0.8898678414096917\n",
            "\n",
            "For feature pair 'Energy' and 'Valence', accuracy is: 0.8942731277533039\n",
            "\n",
            "For feature pair 'Instrumentalness' and 'Key', accuracy is: 0.8942731277533039\n",
            "\n",
            "For feature pair 'Instrumentalness' and 'Liveness', accuracy is: 0.8766519823788547\n",
            "\n",
            "For feature pair 'Instrumentalness' and 'Loudness', accuracy is: 0.8810572687224669\n",
            "\n",
            "For feature pair 'Instrumentalness' and 'Mode', accuracy is: 0.8986784140969163\n",
            "\n",
            "For feature pair 'Instrumentalness' and 'Speechiness', accuracy is: 0.8722466960352423\n",
            "\n",
            "For feature pair 'Instrumentalness' and 'Tempo', accuracy is: 0.8898678414096917\n",
            "\n",
            "For feature pair 'Instrumentalness' and 'Time Signature', accuracy is: 0.8986784140969163\n",
            "\n",
            "For feature pair 'Instrumentalness' and 'Valence', accuracy is: 0.8942731277533039\n",
            "\n",
            "For feature pair 'Key' and 'Liveness', accuracy is: 0.8898678414096917\n",
            "\n",
            "For feature pair 'Key' and 'Loudness', accuracy is: 0.8898678414096917\n",
            "\n",
            "For feature pair 'Key' and 'Mode', accuracy is: 0.8546255506607929\n",
            "\n",
            "For feature pair 'Key' and 'Speechiness', accuracy is: 0.8854625550660793\n",
            "\n",
            "For feature pair 'Key' and 'Tempo', accuracy is: 0.8942731277533039\n",
            "\n",
            "For feature pair 'Key' and 'Time Signature', accuracy is: 0.8942731277533039\n",
            "\n",
            "For feature pair 'Key' and 'Valence', accuracy is: 0.8942731277533039\n",
            "\n",
            "For feature pair 'Liveness' and 'Loudness', accuracy is: 0.8722466960352423\n",
            "\n",
            "For feature pair 'Liveness' and 'Mode', accuracy is: 0.8810572687224669\n",
            "\n",
            "For feature pair 'Liveness' and 'Speechiness', accuracy is: 0.8810572687224669\n",
            "\n",
            "For feature pair 'Liveness' and 'Tempo', accuracy is: 0.8766519823788547\n",
            "\n",
            "For feature pair 'Liveness' and 'Time Signature', accuracy is: 0.8766519823788547\n",
            "\n",
            "For feature pair 'Liveness' and 'Valence', accuracy is: 0.8634361233480177\n",
            "\n",
            "For feature pair 'Loudness' and 'Mode', accuracy is: 0.8942731277533039\n",
            "\n",
            "For feature pair 'Loudness' and 'Speechiness', accuracy is: 0.8722466960352423\n",
            "\n",
            "For feature pair 'Loudness' and 'Tempo', accuracy is: 0.8810572687224669\n",
            "\n",
            "For feature pair 'Loudness' and 'Time Signature', accuracy is: 0.8810572687224669\n",
            "\n",
            "For feature pair 'Loudness' and 'Valence', accuracy is: 0.8766519823788547\n",
            "\n",
            "For feature pair 'Mode' and 'Speechiness', accuracy is: 0.8722466960352423\n",
            "\n",
            "For feature pair 'Mode' and 'Tempo', accuracy is: 0.8942731277533039\n",
            "\n",
            "For feature pair 'Mode' and 'Time Signature', accuracy is: 0.8942731277533039\n",
            "\n",
            "For feature pair 'Mode' and 'Valence', accuracy is: 0.8810572687224669\n",
            "\n",
            "For feature pair 'Speechiness' and 'Tempo', accuracy is: 0.8722466960352423\n",
            "\n",
            "For feature pair 'Speechiness' and 'Time Signature', accuracy is: 0.8810572687224669\n",
            "\n",
            "For feature pair 'Speechiness' and 'Valence', accuracy is: 0.8722466960352423\n",
            "\n",
            "For feature pair 'Tempo' and 'Time Signature', accuracy is: 0.8898678414096917\n",
            "\n",
            "For feature pair 'Tempo' and 'Valence', accuracy is: 0.8634361233480177\n",
            "\n",
            "For feature pair 'Time Signature' and 'Valence', accuracy is: 0.8986784140969163\n",
            "\n"
          ]
        }
      ]
    },
    {
      "cell_type": "code",
      "metadata": {
        "colab": {
          "base_uri": "https://localhost:8080/"
        },
        "id": "htYsZopFw7yf",
        "outputId": "94b1540e-7cc9-4978-971b-998c689a2440"
      },
      "source": [
        "print(f'Top feature pair #1: {top_pair_info[0]} with {top_pair_info[1]} accuracy')\n",
        "print(f'Top feature pair #2: {top_pair_info2[0]} with {top_pair_info2[1]} accuracy')\n",
        "print(f'Top feature pair #3: {top_pair_info3[0]} with {top_pair_info3[1]} accuracy')"
      ],
      "execution_count": 34,
      "outputs": [
        {
          "output_type": "stream",
          "name": "stdout",
          "text": [
            "Top feature pair #1: Instrumentalness and Mode with 0.8986784140969163 accuracy\n",
            "Top feature pair #2: Instrumentalness and Time Signature with 0.8986784140969163 accuracy\n",
            "Top feature pair #3: Time Signature and Valence with 0.8986784140969163 accuracy\n"
          ]
        }
      ]
    },
    {
      "cell_type": "markdown",
      "metadata": {
        "id": "9MZbqfQZWhcz"
      },
      "source": [
        "* The Top 3 most accurate feature pairs **all shared the same accuracy score** of 0.8986784140969163\n",
        "* As **Instrumentalness** performed best independently and was part of the top two pairs, an assumption can be made that **Instrumentalness highly influences accuracy of predictions**\n",
        "* Valence was not part of original Top 4 most accurate features but the combination of Time Signature and Valence for predicting performed equally as accurate"
      ]
    },
    {
      "cell_type": "markdown",
      "metadata": {
        "id": "Pqrr55H4LwgW"
      },
      "source": [
        "##3) Ensemble Learning (Bagging)"
      ]
    },
    {
      "cell_type": "markdown",
      "metadata": {
        "id": "_PtLM7LzaWu5"
      },
      "source": [
        "###Performing voting on 11 Decision Tree Classifiers"
      ]
    },
    {
      "cell_type": "code",
      "metadata": {
        "colab": {
          "base_uri": "https://localhost:8080/"
        },
        "id": "ohUPiFg-LsQ_",
        "outputId": "14188e14-219c-462a-8146-cabea49b82ce"
      },
      "source": [
        "# initialize predictions from 11 unique decision trees \n",
        "original_dataset_size = len(X_train)\n",
        "predictions_lists = []\n",
        "\n",
        "for i in range(0,11):\n",
        "        bootstrap_size=int(0.8 * original_dataset_size)\n",
        "\n",
        "        new_X_train, new_y_train = resample(X_train, y_train, n_samples=bootstrap_size, \n",
        "                                    random_state=i , replace = True)\n",
        "\n",
        "        base_decision_tree = DecisionTreeClassifier(random_state=3)\n",
        "        \n",
        "        base_decision_tree.fit(new_X_train, new_y_train)\n",
        "\n",
        "        predictions = base_decision_tree.predict(X_test)\n",
        "\n",
        "        predictions_lists.append(predictions.tolist())\n",
        "\n",
        "\n",
        "for i in range(0,11):\n",
        "        print(f'Decision Tree {i+1} predictions:\\n{predictions_lists[i]}\\n')"
      ],
      "execution_count": 35,
      "outputs": [
        {
          "output_type": "stream",
          "name": "stdout",
          "text": [
            "Decision Tree 1 predictions:\n",
            "[False, False, False, False, False, False, False, False, False, False, False, False, False, False, False, False, False, False, False, False, False, False, False, False, True, False, False, False, False, False, False, False, False, False, False, False, False, False, False, False, True, False, False, False, False, True, False, False, False, False, False, False, False, True, False, False, False, False, False, False, True, False, False, False, False, False, False, False, False, False, False, False, True, False, False, False, False, False, False, True, True, True, False, False, False, False, False, False, False, False, False, False, False, False, True, False, False, True, False, False, False, True, False, True, True, True, False, False, False, False, False, False, False, False, False, False, False, True, False, False, False, False, False, False, False, False, False, False, False, False, False, False, True, False, False, False, False, False, False, False, True, False, False, False, False, False, False, False, False, False, False, False, False, False, False, False, False, False, False, False, False, False, True, False, False, False, False, False, False, False, False, True, False, False, False, False, False, True, False, True, False, False, False, False, True, False, True, False, True, False, False, False, False, False, False, False, False, True, False, False, False, False, False, False, False, False, False, False, False, False, False, False, False, False, True, False, False, False, False, False, False, True, False, True, False, False, False]\n",
            "\n",
            "Decision Tree 2 predictions:\n",
            "[False, False, False, False, False, True, True, False, False, False, False, False, False, True, True, False, True, False, False, False, False, False, False, False, False, False, True, False, False, False, False, False, False, False, False, False, False, False, False, False, True, False, False, False, False, False, False, False, False, False, False, False, False, True, False, True, False, False, False, False, True, False, False, False, False, False, False, False, False, False, True, True, False, False, False, False, False, False, False, False, False, True, True, True, False, False, False, True, False, False, False, True, False, False, False, False, True, True, True, True, False, False, False, False, False, False, False, False, True, False, False, False, False, True, True, False, False, True, False, True, False, False, False, True, False, False, False, False, False, False, False, True, False, True, True, False, False, False, False, False, True, False, False, False, False, False, True, False, False, False, False, False, True, False, False, False, False, True, False, False, False, False, False, False, False, False, False, False, False, False, False, True, False, False, False, False, False, False, False, False, False, True, False, False, False, False, False, False, False, False, False, False, False, False, False, False, False, False, False, False, False, False, True, False, False, True, False, False, False, True, False, False, False, False, False, True, False, False, False, False, False, False, False, False, False, False, False]\n",
            "\n",
            "Decision Tree 3 predictions:\n",
            "[False, False, False, False, False, False, False, False, False, False, False, False, False, False, True, False, False, False, False, False, False, False, False, False, False, False, True, True, False, False, False, False, False, False, False, False, False, False, False, False, True, False, False, False, False, False, False, False, False, False, False, False, False, True, False, False, False, False, True, False, False, False, False, False, False, False, False, False, False, False, False, True, False, False, False, False, True, False, False, False, False, False, False, False, False, False, False, False, False, False, True, False, False, False, False, False, True, False, False, False, False, False, False, False, False, True, True, False, True, False, False, False, True, True, False, False, False, False, False, True, False, False, False, True, False, False, False, True, True, False, False, True, False, False, False, False, False, False, False, False, False, False, False, False, False, False, False, False, False, False, False, False, True, False, False, False, False, True, False, True, False, False, False, False, False, False, False, False, False, False, False, False, False, False, False, False, False, False, False, False, False, False, False, False, False, False, False, False, False, True, False, False, False, True, True, False, False, False, False, False, False, False, False, False, True, False, False, False, False, False, False, False, False, True, False, True, False, False, False, False, False, False, False, False, False, False, True]\n",
            "\n",
            "Decision Tree 4 predictions:\n",
            "[False, False, False, False, False, True, False, False, True, False, False, False, False, True, False, False, False, True, True, False, False, False, False, False, False, False, True, False, False, False, False, False, False, False, True, True, True, False, False, False, True, False, False, False, False, False, False, False, False, False, False, False, False, True, False, False, False, False, False, False, True, False, False, False, False, False, False, False, False, False, True, False, False, False, False, False, False, False, False, False, False, False, False, False, True, False, False, False, False, False, False, False, False, False, False, False, False, True, True, True, True, False, False, False, False, False, False, False, False, False, False, False, False, True, True, False, False, True, True, False, False, False, False, False, False, False, True, False, False, False, False, True, False, False, False, False, False, False, False, False, False, False, True, False, False, True, False, False, True, False, False, True, False, False, False, False, False, False, False, False, False, False, False, True, False, False, False, False, False, False, False, False, False, True, False, False, False, False, False, False, False, False, False, True, False, False, True, False, False, False, False, False, False, True, False, False, False, False, False, False, True, False, False, False, True, False, False, False, False, False, False, False, False, False, False, False, False, False, False, False, False, False, False, False, True, False, True]\n",
            "\n",
            "Decision Tree 5 predictions:\n",
            "[False, False, False, False, False, False, False, False, False, True, False, False, False, True, True, False, False, True, False, False, True, False, False, True, False, False, False, False, False, False, False, False, False, False, False, False, False, False, False, False, False, False, False, True, False, False, False, False, False, False, False, False, False, False, False, False, False, False, False, False, False, False, False, False, False, False, False, False, False, False, False, False, False, False, False, False, False, True, False, False, False, True, False, False, False, True, True, True, False, False, False, False, False, False, False, False, False, True, False, False, False, False, False, False, False, True, False, False, False, False, False, False, False, True, False, False, False, True, False, False, False, False, False, True, False, True, False, False, False, True, False, False, False, False, False, True, False, False, False, False, False, False, True, False, False, False, False, False, False, False, True, False, False, False, False, False, False, True, False, False, False, False, False, False, False, False, False, False, True, False, False, False, False, False, False, True, False, False, False, True, False, False, False, False, True, True, False, True, False, True, False, False, False, False, False, False, True, True, False, False, False, False, False, False, True, False, False, False, False, True, False, False, False, False, True, False, False, False, False, True, False, False, False, False, False, False, False]\n",
            "\n",
            "Decision Tree 6 predictions:\n",
            "[False, False, False, False, False, True, False, False, False, False, False, False, False, True, True, False, False, False, False, False, False, False, False, False, True, False, False, False, False, False, False, False, True, False, False, False, False, False, False, False, False, False, False, False, False, False, False, False, False, False, False, False, False, True, False, False, False, False, False, True, False, False, False, False, False, False, True, True, False, False, True, False, True, False, False, False, False, False, False, False, False, False, False, False, False, True, False, True, False, False, False, False, False, False, False, False, False, True, False, False, False, False, False, False, False, True, True, False, True, False, False, False, False, True, False, False, False, False, False, False, False, True, False, True, False, False, False, True, False, False, False, False, False, False, False, False, False, False, False, False, False, False, False, False, False, False, False, False, False, False, True, False, False, False, False, True, False, True, False, False, False, False, False, False, False, False, False, False, False, False, False, False, False, False, False, False, False, False, False, False, False, False, False, False, False, False, True, False, False, True, False, False, False, False, False, False, False, False, False, False, False, False, False, True, True, False, False, False, True, True, False, False, False, False, False, True, False, False, True, False, False, False, False, False, False, False, True]\n",
            "\n",
            "Decision Tree 7 predictions:\n",
            "[False, False, False, False, False, False, False, False, False, True, False, True, False, True, True, False, False, False, False, False, False, False, False, False, False, False, True, False, False, False, False, False, False, False, True, False, True, False, False, True, True, False, True, True, False, False, True, False, False, False, False, True, False, True, True, False, False, False, True, False, True, False, False, False, False, False, False, False, False, False, False, False, False, False, False, False, False, False, False, False, False, False, False, False, True, True, False, True, False, False, False, False, False, False, False, False, False, True, False, False, False, False, False, False, False, True, False, False, False, False, False, False, True, True, True, False, False, True, False, False, False, False, False, False, False, False, False, False, True, False, False, False, False, False, True, True, False, False, False, False, False, False, False, False, False, False, True, False, False, False, True, False, False, False, False, False, False, False, False, False, False, True, False, False, False, False, False, False, False, False, False, False, False, False, False, False, False, True, False, False, False, False, False, False, False, False, False, False, False, False, False, False, False, True, False, False, False, False, False, False, False, False, False, False, True, False, True, False, False, False, False, False, False, True, False, False, False, False, False, False, True, False, False, False, False, False, True]\n",
            "\n",
            "Decision Tree 8 predictions:\n",
            "[False, False, False, False, False, False, False, False, True, False, False, False, False, False, True, False, False, False, False, False, True, False, False, False, False, False, False, False, False, False, False, False, False, False, False, False, False, True, False, False, True, False, False, False, False, True, False, False, False, False, False, False, False, True, False, False, False, False, False, False, False, False, False, False, False, False, False, False, True, False, True, False, False, False, False, False, False, False, False, False, False, False, False, False, False, False, False, True, False, False, True, False, False, False, False, False, False, False, False, True, False, False, False, False, False, True, False, False, False, False, False, False, False, True, False, False, False, True, False, False, False, False, False, True, False, False, True, False, False, False, False, False, True, False, True, False, False, False, False, True, True, False, False, False, False, False, False, False, False, False, False, False, False, False, True, False, False, False, False, False, False, False, False, False, False, False, False, False, False, False, True, True, False, False, False, False, False, False, False, False, False, True, False, False, False, False, True, False, False, False, False, False, False, False, False, False, False, False, False, False, False, False, False, False, True, False, False, False, False, True, False, False, False, False, False, False, True, False, False, False, False, False, False, False, False, False, True]\n",
            "\n",
            "Decision Tree 9 predictions:\n",
            "[False, False, False, False, False, False, False, False, False, False, True, False, False, False, True, False, False, False, False, False, False, False, False, False, False, False, False, False, False, False, False, False, False, False, False, False, True, False, False, False, True, False, False, True, False, False, False, False, False, True, False, False, False, False, True, False, False, False, False, False, False, False, False, False, False, False, False, False, False, False, False, False, False, False, False, False, False, True, False, False, False, False, False, False, False, False, True, False, False, False, False, False, True, False, False, False, False, True, False, False, False, False, False, False, True, True, False, False, False, False, False, False, False, True, False, False, False, False, False, False, False, False, False, False, False, False, False, True, True, False, False, False, False, False, True, False, True, False, False, False, False, False, False, False, False, True, False, False, False, False, True, False, False, False, False, False, False, True, False, False, False, True, False, True, False, False, False, False, True, False, False, False, False, False, True, True, False, False, False, True, False, False, True, False, False, False, False, False, False, False, False, False, False, True, False, False, False, False, False, False, False, False, True, False, True, False, True, False, False, True, False, False, True, True, False, False, False, False, False, False, False, False, False, False, False, True, False]\n",
            "\n",
            "Decision Tree 10 predictions:\n",
            "[False, False, False, False, False, False, False, False, False, False, False, False, True, True, True, False, False, False, False, False, False, False, True, False, False, False, False, False, False, False, False, False, False, False, True, False, False, True, False, True, True, False, False, True, False, False, False, False, False, True, False, False, False, True, False, False, False, True, False, True, False, False, False, False, False, False, False, True, False, False, False, False, False, False, False, False, False, False, False, False, True, False, False, False, True, False, False, False, False, False, True, True, True, False, False, False, True, True, False, False, False, False, False, False, False, True, False, False, False, False, False, False, False, False, False, False, False, True, False, False, False, False, False, False, False, True, False, False, False, False, False, False, False, False, False, True, False, False, False, False, False, False, False, False, False, False, False, False, False, False, False, False, False, False, False, False, True, False, False, False, False, False, False, False, False, False, False, False, False, False, False, False, False, False, False, False, False, False, False, False, False, False, False, False, False, False, False, False, False, False, False, False, False, True, False, False, False, False, False, False, False, False, False, False, True, False, False, False, False, False, False, False, False, False, False, False, False, False, False, False, False, False, False, False, False, False, False]\n",
            "\n",
            "Decision Tree 11 predictions:\n",
            "[False, False, False, False, False, False, False, False, True, False, True, False, False, True, True, False, False, False, False, False, True, False, False, False, False, False, True, False, False, False, False, False, False, False, False, False, False, False, False, True, False, False, False, False, False, False, False, False, False, False, False, True, False, True, False, False, False, False, False, False, True, False, False, False, False, False, False, False, False, False, True, True, False, False, False, False, False, False, False, False, False, False, False, False, False, False, False, True, False, False, False, False, False, False, True, False, False, False, False, False, False, True, False, False, False, True, True, False, True, False, False, False, False, True, False, False, False, True, False, False, False, False, False, False, False, False, False, False, False, False, False, False, False, False, False, False, False, False, False, False, True, False, False, False, False, False, False, False, False, False, False, False, True, False, False, False, False, True, False, False, False, False, False, False, False, False, False, False, False, False, False, False, False, False, False, False, False, False, False, False, False, False, False, False, False, False, False, False, False, True, False, False, False, False, False, False, False, False, False, False, False, False, False, False, False, False, False, False, False, False, False, False, False, False, False, False, False, False, False, False, False, False, False, False, False, False, False]\n",
            "\n"
          ]
        }
      ]
    },
    {
      "cell_type": "code",
      "metadata": {
        "colab": {
          "base_uri": "https://localhost:8080/"
        },
        "id": "MfDkNXr7Mdad",
        "outputId": "cd6cbee1-8218-4a89-c9c1-728aa22f56ac"
      },
      "source": [
        "# initialize prediction values as a numpy matrix\n",
        "prediction_matrix = np.array(predictions_lists)\n",
        "\n",
        "prediction_matrix"
      ],
      "execution_count": 36,
      "outputs": [
        {
          "output_type": "execute_result",
          "data": {
            "text/plain": [
              "array([[False, False, False, ..., False, False, False],\n",
              "       [False, False, False, ..., False, False, False],\n",
              "       [False, False, False, ..., False, False,  True],\n",
              "       ...,\n",
              "       [False, False, False, ..., False,  True, False],\n",
              "       [False, False, False, ..., False, False, False],\n",
              "       [False, False, False, ..., False, False, False]])"
            ]
          },
          "metadata": {},
          "execution_count": 36
        }
      ]
    },
    {
      "cell_type": "code",
      "metadata": {
        "colab": {
          "base_uri": "https://localhost:8080/"
        },
        "id": "7JFCe7jLMic4",
        "outputId": "ba4f9ec3-b115-477f-96c5-1f834308e731"
      },
      "source": [
        "# transpose prediction_matrix so that each row is instead all predictions for individual data sample\n",
        "voting_matrix = prediction_matrix.transpose()\n",
        "\n",
        "voting_matrix"
      ],
      "execution_count": 37,
      "outputs": [
        {
          "output_type": "execute_result",
          "data": {
            "text/plain": [
              "array([[False, False, False, ..., False, False, False],\n",
              "       [False, False, False, ..., False, False, False],\n",
              "       [False, False, False, ..., False, False, False],\n",
              "       ...,\n",
              "       [False, False, False, ..., False, False, False],\n",
              "       [False, False, False, ...,  True, False, False],\n",
              "       [False, False,  True, ..., False, False, False]])"
            ]
          },
          "metadata": {},
          "execution_count": 37
        }
      ]
    },
    {
      "cell_type": "code",
      "metadata": {
        "colab": {
          "base_uri": "https://localhost:8080/"
        },
        "id": "ewRPD2S8Mid8",
        "outputId": "dc23cc4e-f864-4400-d623-09c1595a7f62"
      },
      "source": [
        "# voting method (positive vote for 1's, negative vote for 0's)\n",
        "\n",
        "# initializing list to store majority votes of decision trees\n",
        "majority_vote_predictions = []\n",
        "\n",
        "# return 1 if number of positives, (1's), greater than half the list rounded down  \n",
        "get_majority_vote = lambda prediction_list: 1 if np.count_nonzero(prediction_list == 1) > math.floor(len(prediction_list) / 2) else 0\n",
        "\n",
        "for i in range(0, len(voting_matrix)):\n",
        "        majority_vote_predictions.append(get_majority_vote(voting_matrix[i]))\n",
        "\n",
        "print(f'Majority votes of all decision trees: \\n{majority_vote_predictions}')"
      ],
      "execution_count": 38,
      "outputs": [
        {
          "output_type": "stream",
          "name": "stdout",
          "text": [
            "Majority votes of all decision trees: \n",
            "[0, 0, 0, 0, 0, 0, 0, 0, 0, 0, 0, 0, 0, 1, 1, 0, 0, 0, 0, 0, 0, 0, 0, 0, 0, 0, 0, 0, 0, 0, 0, 0, 0, 0, 0, 0, 0, 0, 0, 0, 1, 0, 0, 0, 0, 0, 0, 0, 0, 0, 0, 0, 0, 1, 0, 0, 0, 0, 0, 0, 0, 0, 0, 0, 0, 0, 0, 0, 0, 0, 0, 0, 0, 0, 0, 0, 0, 0, 0, 0, 0, 0, 0, 0, 0, 0, 0, 1, 0, 0, 0, 0, 0, 0, 0, 0, 0, 1, 0, 0, 0, 0, 0, 0, 0, 1, 0, 0, 0, 0, 0, 0, 0, 1, 0, 0, 0, 1, 0, 0, 0, 0, 0, 0, 0, 0, 0, 0, 0, 0, 0, 0, 0, 0, 0, 0, 0, 0, 0, 0, 0, 0, 0, 0, 0, 0, 0, 0, 0, 0, 0, 0, 0, 0, 0, 0, 0, 1, 0, 0, 0, 0, 0, 0, 0, 0, 0, 0, 0, 0, 0, 0, 0, 0, 0, 0, 0, 0, 0, 0, 0, 0, 0, 0, 0, 0, 0, 0, 0, 0, 0, 0, 0, 0, 0, 0, 0, 0, 0, 0, 0, 0, 0, 0, 1, 0, 0, 0, 0, 0, 0, 0, 0, 0, 0, 0, 0, 0, 0, 0, 0, 0, 0, 0, 0, 0, 0]\n"
          ]
        }
      ]
    },
    {
      "cell_type": "code",
      "metadata": {
        "colab": {
          "base_uri": "https://localhost:8080/"
        },
        "id": "pSdj0m__Namc",
        "outputId": "73d78cdb-2b58-47a5-e031-666956b9d323"
      },
      "source": [
        "# calculating accuracy of majority vote predictions\n",
        "majority_vote_accuracy = accuracy_score(y_test ,majority_vote_predictions)\n",
        "\n",
        "print(f'Bagging (majority vote) accuracy score: {majority_vote_accuracy}')"
      ],
      "execution_count": 39,
      "outputs": [
        {
          "output_type": "stream",
          "name": "stdout",
          "text": [
            "Bagging (majority vote) accuracy score: 0.9162995594713657\n"
          ]
        }
      ]
    },
    {
      "cell_type": "markdown",
      "metadata": {
        "id": "-6gHoGksaqpI"
      },
      "source": [
        "* So far Ensemble Learning, Bagging 11 Decision Trees, has **produced the highest prediction accuracy** of 0.9162995594713657"
      ]
    },
    {
      "cell_type": "markdown",
      "metadata": {
        "id": "MyxQV8kqNgZn"
      },
      "source": [
        "## 4) Random Forest Classification (sklearn)"
      ]
    },
    {
      "cell_type": "markdown",
      "metadata": {
        "id": "IzwvHGz5bGAg"
      },
      "source": [
        "###Performing Random Forest (also using 11 Decision Tree Classifiers)"
      ]
    },
    {
      "cell_type": "code",
      "metadata": {
        "colab": {
          "base_uri": "https://localhost:8080/"
        },
        "id": "utEFyyePNaoF",
        "outputId": "f524f372-2433-425b-eaa4-1b7fb1167d21"
      },
      "source": [
        "# initialize random forest classifier\n",
        "my_randomforest = RandomForestClassifier(n_estimators = 11, bootstrap = True, random_state=3)\n",
        "\n",
        "# Train model with \"fit\" method along with training dataset and labels\n",
        "my_randomforest.fit(X_train, y_train)\n",
        "\n",
        "# Generate label predictions vector\n",
        "y_predictions = my_randomforest.predict(X_test)\n",
        "\n",
        "\n",
        "rf_accuracy_score = accuracy_score(y_test, y_predictions)\n",
        "\n",
        "print(f'Random Forest Classifier accuracy score: {rf_accuracy_score}')"
      ],
      "execution_count": 40,
      "outputs": [
        {
          "output_type": "stream",
          "name": "stdout",
          "text": [
            "Random Forest Classifier accuracy score: 0.9251101321585903\n"
          ]
        }
      ]
    },
    {
      "cell_type": "markdown",
      "metadata": {
        "id": "dDXi3UrmbVSI"
      },
      "source": [
        "* Random Forest produced better accuracy than the previously best accuracy of by Ensemble learning, with 0.9251101321585903 accuracy\n",
        "* Making **Random Forest most accurate of all Classifications currently implemented**, leaving only Logistic Regression left to compare"
      ]
    },
    {
      "cell_type": "markdown",
      "metadata": {
        "id": "l4wprUqqN_JJ"
      },
      "source": [
        "## 5) Logistic Regression"
      ]
    },
    {
      "cell_type": "markdown",
      "metadata": {
        "id": "9WuoWxlvcuAN"
      },
      "source": [
        "###Using numerical values of Top 10 labels rather than boolean"
      ]
    },
    {
      "cell_type": "code",
      "metadata": {
        "colab": {
          "base_uri": "https://localhost:8080/"
        },
        "id": "W9JusOatN-yw",
        "outputId": "378e03f2-5a23-4100-a7bf-2563f600efaf"
      },
      "source": [
        "y_boolean = song_df['Top 10']\n",
        "\n",
        "bool_to_numberical = lambda label: 1 if label == True else 0\n",
        "\n",
        "song_df['Top 10 Numerical'] = [bool_to_numberical(x) for x in y_boolean]\n",
        "\n",
        "y_top_10 = song_df['Top 10 Numerical']\n",
        "\n",
        "y_top_10[:20]"
      ],
      "execution_count": 41,
      "outputs": [
        {
          "output_type": "execute_result",
          "data": {
            "text/plain": [
              "0     1\n",
              "1     1\n",
              "2     1\n",
              "3     1\n",
              "4     1\n",
              "5     1\n",
              "6     1\n",
              "7     1\n",
              "8     1\n",
              "9     0\n",
              "10    0\n",
              "11    0\n",
              "12    0\n",
              "13    0\n",
              "14    0\n",
              "15    0\n",
              "16    0\n",
              "17    0\n",
              "18    0\n",
              "19    0\n",
              "Name: Top 10 Numerical, dtype: int64"
            ]
          },
          "metadata": {},
          "execution_count": 41
        }
      ]
    },
    {
      "cell_type": "markdown",
      "metadata": {
        "id": "q6hlWB1sc3sR"
      },
      "source": [
        "###Normalizing feature data `X`"
      ]
    },
    {
      "cell_type": "code",
      "metadata": {
        "colab": {
          "base_uri": "https://localhost:8080/"
        },
        "id": "GZjKU_1KPiuI",
        "outputId": "fc8842f9-c564-4d13-c8f9-1c93b86e3ff3"
      },
      "source": [
        "# normalize (scale) features\n",
        "normalized_X = preprocessing.scale(X)\n",
        "\n",
        "normalized_X"
      ],
      "execution_count": 42,
      "outputs": [
        {
          "output_type": "execute_result",
          "data": {
            "text/plain": [
              "array([[-0.14566614,  0.44717649,  0.67469333, ..., -0.59468989,\n",
              "         0.05865186,  0.00713724],\n",
              "       [-0.71977498,  0.59948341,  0.41481249, ...,  0.29471908,\n",
              "         0.05865186, -0.69608602],\n",
              "       [-0.13120496, -0.25343535,  1.0645146 , ...,  0.08441443,\n",
              "         0.05865186,  0.67709993],\n",
              "       ...,\n",
              "       [-0.72170313,  1.96263036,  0.04355414, ...,  0.18835934,\n",
              "         0.05865186, -1.09996424],\n",
              "       [-0.78759791, -2.10396445,  1.13257863, ..., -0.32923442,\n",
              "         0.05865186, -0.11640198],\n",
              "       [ 0.48098499,  1.4904789 ,  0.52000235, ..., -1.33842684,\n",
              "         0.05865186,  0.66284541]])"
            ]
          },
          "metadata": {},
          "execution_count": 42
        }
      ]
    },
    {
      "cell_type": "code",
      "metadata": {
        "colab": {
          "base_uri": "https://localhost:8080/"
        },
        "id": "15FtAb-RPo5L",
        "outputId": "2b0f1d0d-ded4-4052-b125-27de0a494d82"
      },
      "source": [
        "# split dataset into testing and training sets\n",
        "X_train, X_test, y_train, y_test = train_test_split(normalized_X, y_top_10, test_size=0.25, random_state=3)\n",
        "\n",
        "# check shapes of testing and training sets\n",
        "print(X_train.shape)\n",
        "print(y_train.shape)\n",
        "print(X_test.shape)\n",
        "print(y_test.shape)"
      ],
      "execution_count": 43,
      "outputs": [
        {
          "output_type": "stream",
          "name": "stdout",
          "text": [
            "(678, 12)\n",
            "(678,)\n",
            "(227, 12)\n",
            "(227,)\n"
          ]
        }
      ]
    },
    {
      "cell_type": "code",
      "metadata": {
        "colab": {
          "base_uri": "https://localhost:8080/"
        },
        "id": "T-U7K2O9PxCT",
        "outputId": "a5b01e02-df8c-4372-ede6-379f6d8ac07d"
      },
      "source": [
        "# implementing logistic regression classifier with training/testing datasets\n",
        "logreg = LogisticRegression()\n",
        "\n",
        "logreg.fit(X_train, y_train)\n",
        "\n",
        "y_predictions = logreg.predict(X_test)\n",
        "\n",
        "print('Predictions:')\n",
        "print(y_predictions)\n",
        "logreg_accuracy_score = accuracy_score(y_test, y_predictions)\n",
        "\n",
        "print(f'\\nLogistic Regression Classifier accuracy score: {logreg_accuracy_score}')"
      ],
      "execution_count": 44,
      "outputs": [
        {
          "output_type": "stream",
          "name": "stdout",
          "text": [
            "Predictions:\n",
            "[0 0 0 0 0 0 0 0 0 0 0 0 0 0 0 0 0 0 0 0 0 0 0 0 0 0 0 0 0 0 0 0 0 0 0 0 0\n",
            " 0 0 0 0 0 0 0 0 0 0 0 0 0 0 0 0 0 0 0 0 0 0 0 0 0 0 0 0 0 0 0 0 0 0 0 0 0\n",
            " 0 0 0 0 0 0 0 0 0 0 0 0 0 0 0 0 0 0 0 0 0 0 0 0 0 0 0 0 0 0 0 0 0 0 0 0 0\n",
            " 0 0 0 0 0 0 0 0 0 0 0 0 0 0 0 0 0 0 0 0 0 0 0 0 0 0 0 0 0 0 0 0 0 0 0 0 0\n",
            " 0 0 0 0 0 0 0 0 0 0 0 0 0 0 0 0 0 0 0 0 0 0 0 0 0 0 0 0 0 0 0 0 0 0 0 0 0\n",
            " 0 0 0 0 0 0 0 0 0 0 0 0 0 0 0 0 0 0 0 0 0 0 0 0 0 0 0 0 0 0 0 0 0 0 0 0 0\n",
            " 0 0 0 0 0]\n",
            "\n",
            "Logistic Regression Classifier accuracy score: 0.8942731277533039\n"
          ]
        }
      ]
    },
    {
      "cell_type": "markdown",
      "metadata": {
        "id": "7VZthrh9d7V6"
      },
      "source": [
        "* Logistic Regression Classification produced an accuracy score of 0.8942731277533039, making it **less accurate than the prediction accuracy of using the single feature Instrumentalness** (at 0.8986784140969163)"
      ]
    },
    {
      "cell_type": "code",
      "metadata": {
        "colab": {
          "base_uri": "https://localhost:8080/"
        },
        "id": "J5JxAYf-Q4cU",
        "outputId": "bcc3e353-032c-467b-ab8a-2dd2bcf91058"
      },
      "source": [
        "# y_pred_prob = 'y predictions probability'\n",
        "y_pred_prob = logreg.predict_proba(X_test)\n",
        "\n",
        "print(f'Probability of Song being ranked Top 10:\\n{y_pred_prob}')"
      ],
      "execution_count": 45,
      "outputs": [
        {
          "output_type": "stream",
          "name": "stdout",
          "text": [
            "Probability of Song being ranked Top 10:\n",
            "[[0.89329475 0.10670525]\n",
            " [0.80571925 0.19428075]\n",
            " [0.86506224 0.13493776]\n",
            " [0.76859636 0.23140364]\n",
            " [0.93623117 0.06376883]\n",
            " [0.76210433 0.23789567]\n",
            " [0.90623689 0.09376311]\n",
            " [0.92314254 0.07685746]\n",
            " [0.92341007 0.07658993]\n",
            " [0.89602235 0.10397765]\n",
            " [0.88409364 0.11590636]\n",
            " [0.89828545 0.10171455]\n",
            " [0.94574211 0.05425789]\n",
            " [0.8494299  0.1505701 ]\n",
            " [0.78817652 0.21182348]\n",
            " [0.86708657 0.13291343]\n",
            " [0.91486174 0.08513826]\n",
            " [0.78277822 0.21722178]\n",
            " [0.84215137 0.15784863]\n",
            " [0.90080322 0.09919678]\n",
            " [0.85420731 0.14579269]\n",
            " [0.88723913 0.11276087]\n",
            " [0.77575579 0.22424421]\n",
            " [0.9137804  0.0862196 ]\n",
            " [0.92273185 0.07726815]\n",
            " [0.97140859 0.02859141]\n",
            " [0.79838626 0.20161374]\n",
            " [0.90251311 0.09748689]\n",
            " [0.94185077 0.05814923]\n",
            " [0.94863952 0.05136048]\n",
            " [0.81933174 0.18066826]\n",
            " [0.97437292 0.02562708]\n",
            " [0.94008076 0.05991924]\n",
            " [0.91998494 0.08001506]\n",
            " [0.86848353 0.13151647]\n",
            " [0.8451507  0.1548493 ]\n",
            " [0.83623925 0.16376075]\n",
            " [0.88184395 0.11815605]\n",
            " [0.94613011 0.05386989]\n",
            " [0.97357794 0.02642206]\n",
            " [0.74072998 0.25927002]\n",
            " [0.81933174 0.18066826]\n",
            " [0.82290853 0.17709147]\n",
            " [0.84779643 0.15220357]\n",
            " [0.93054131 0.06945869]\n",
            " [0.95442675 0.04557325]\n",
            " [0.89828545 0.10171455]\n",
            " [0.94659619 0.05340381]\n",
            " [0.93597291 0.06402709]\n",
            " [0.92762425 0.07237575]\n",
            " [0.9519276  0.0480724 ]\n",
            " [0.93294637 0.06705363]\n",
            " [0.9284075  0.0715925 ]\n",
            " [0.86046606 0.13953394]\n",
            " [0.87960931 0.12039069]\n",
            " [0.90623689 0.09376311]\n",
            " [0.87010177 0.12989823]\n",
            " [0.97114508 0.02885492]\n",
            " [0.88907524 0.11092476]\n",
            " [0.83608791 0.16391209]\n",
            " [0.8537435  0.1462565 ]\n",
            " [0.87370899 0.12629101]\n",
            " [0.92155862 0.07844138]\n",
            " [0.91222938 0.08777062]\n",
            " [0.86775245 0.13224755]\n",
            " [0.95806102 0.04193898]\n",
            " [0.86721929 0.13278071]\n",
            " [0.70812393 0.29187607]\n",
            " [0.94934234 0.05065766]\n",
            " [0.96606037 0.03393963]\n",
            " [0.90432681 0.09567319]\n",
            " [0.89529436 0.10470564]\n",
            " [0.83165381 0.16834619]\n",
            " [0.92170877 0.07829123]\n",
            " [0.90196053 0.09803947]\n",
            " [0.8293215  0.1706785 ]\n",
            " [0.85935418 0.14064582]\n",
            " [0.74593332 0.25406668]\n",
            " [0.86708657 0.13291343]\n",
            " [0.88196263 0.11803737]\n",
            " [0.83474841 0.16525159]\n",
            " [0.89020874 0.10979126]\n",
            " [0.79452768 0.20547232]\n",
            " [0.85948504 0.14051496]\n",
            " [0.86848353 0.13151647]\n",
            " [0.9625014  0.0374986 ]\n",
            " [0.95565005 0.04434995]\n",
            " [0.80718904 0.19281096]\n",
            " [0.918108   0.081892  ]\n",
            " [0.88980811 0.11019189]\n",
            " [0.90569655 0.09430345]\n",
            " [0.85124079 0.14875921]\n",
            " [0.92111205 0.07888795]\n",
            " [0.91179621 0.08820379]\n",
            " [0.87427241 0.12572759]\n",
            " [0.97073636 0.02926364]\n",
            " [0.74971609 0.25028391]\n",
            " [0.84613182 0.15386818]\n",
            " [0.95722698 0.04277302]\n",
            " [0.8765683  0.1234317 ]\n",
            " [0.83861387 0.16138613]\n",
            " [0.84787531 0.15212469]\n",
            " [0.92506998 0.07493002]\n",
            " [0.93264921 0.06735079]\n",
            " [0.90054446 0.09945554]\n",
            " [0.96188111 0.03811889]\n",
            " [0.86301567 0.13698433]\n",
            " [0.91451531 0.08548469]\n",
            " [0.91259801 0.08740199]\n",
            " [0.9522584  0.0477416 ]\n",
            " [0.96364351 0.03635649]\n",
            " [0.81465591 0.18534409]\n",
            " [0.88907524 0.11092476]\n",
            " [0.90250702 0.09749298]\n",
            " [0.80753766 0.19246234]\n",
            " [0.94674601 0.05325399]\n",
            " [0.88058926 0.11941074]\n",
            " [0.90675216 0.09324784]\n",
            " [0.90973036 0.09026964]\n",
            " [0.93253851 0.06746149]\n",
            " [0.9232295  0.0767705 ]\n",
            " [0.88159771 0.11840229]\n",
            " [0.84399771 0.15600229]\n",
            " [0.87198267 0.12801733]\n",
            " [0.88510556 0.11489444]\n",
            " [0.98547876 0.01452124]\n",
            " [0.88769114 0.11230886]\n",
            " [0.91284317 0.08715683]\n",
            " [0.8318072  0.1681928 ]\n",
            " [0.92857358 0.07142642]\n",
            " [0.90384093 0.09615907]\n",
            " [0.77033442 0.22966558]\n",
            " [0.95197911 0.04802089]\n",
            " [0.82971864 0.17028136]\n",
            " [0.89591385 0.10408615]\n",
            " [0.86509795 0.13490205]\n",
            " [0.94821183 0.05178817]\n",
            " [0.93733798 0.06266202]\n",
            " [0.92911453 0.07088547]\n",
            " [0.94786243 0.05213757]\n",
            " [0.88522778 0.11477222]\n",
            " [0.90979487 0.09020513]\n",
            " [0.89319899 0.10680101]\n",
            " [0.95576639 0.04423361]\n",
            " [0.84398426 0.15601574]\n",
            " [0.83575507 0.16424493]\n",
            " [0.93821861 0.06178139]\n",
            " [0.91383236 0.08616764]\n",
            " [0.94732192 0.05267808]\n",
            " [0.90564604 0.09435396]\n",
            " [0.96171692 0.03828308]\n",
            " [0.92886686 0.07113314]\n",
            " [0.85685732 0.14314268]\n",
            " [0.96452008 0.03547992]\n",
            " [0.95337124 0.04662876]\n",
            " [0.98211685 0.01788315]\n",
            " [0.96051724 0.03948276]\n",
            " [0.81137115 0.18862885]\n",
            " [0.9007362  0.0992638 ]\n",
            " [0.88938034 0.11061966]\n",
            " [0.86125987 0.13874013]\n",
            " [0.88275078 0.11724922]\n",
            " [0.85820232 0.14179768]\n",
            " [0.85672619 0.14327381]\n",
            " [0.8693641  0.1306359 ]\n",
            " [0.94785554 0.05214446]\n",
            " [0.96399625 0.03600375]\n",
            " [0.84566424 0.15433576]\n",
            " [0.91283319 0.08716681]\n",
            " [0.89168566 0.10831434]\n",
            " [0.90963067 0.09036933]\n",
            " [0.91192356 0.08807644]\n",
            " [0.90797861 0.09202139]\n",
            " [0.88961019 0.11038981]\n",
            " [0.92420609 0.07579391]\n",
            " [0.84673169 0.15326831]\n",
            " [0.9280267  0.0719733 ]\n",
            " [0.83246676 0.16753324]\n",
            " [0.91672178 0.08327822]\n",
            " [0.85513343 0.14486657]\n",
            " [0.95301386 0.04698614]\n",
            " [0.97247647 0.02752353]\n",
            " [0.89348686 0.10651314]\n",
            " [0.94732192 0.05267808]\n",
            " [0.89592413 0.10407587]\n",
            " [0.88314448 0.11685552]\n",
            " [0.8650777  0.1349223 ]\n",
            " [0.94339474 0.05660526]\n",
            " [0.88466515 0.11533485]\n",
            " [0.84957398 0.15042602]\n",
            " [0.85726365 0.14273635]\n",
            " [0.91298511 0.08701489]\n",
            " [0.9427685  0.0572315 ]\n",
            " [0.85105266 0.14894734]\n",
            " [0.85461552 0.14538448]\n",
            " [0.8207773  0.1792227 ]\n",
            " [0.88763727 0.11236273]\n",
            " [0.92487204 0.07512796]\n",
            " [0.89314805 0.10685195]\n",
            " [0.92128079 0.07871921]\n",
            " [0.89212779 0.10787221]\n",
            " [0.94878906 0.05121094]\n",
            " [0.87213407 0.12786593]\n",
            " [0.95079366 0.04920634]\n",
            " [0.89192944 0.10807056]\n",
            " [0.89342203 0.10657797]\n",
            " [0.9120654  0.0879346 ]\n",
            " [0.90994751 0.09005249]\n",
            " [0.85113746 0.14886254]\n",
            " [0.91565181 0.08434819]\n",
            " [0.90919405 0.09080595]\n",
            " [0.86285335 0.13714665]\n",
            " [0.92420609 0.07579391]\n",
            " [0.8318072  0.1681928 ]\n",
            " [0.94829268 0.05170732]\n",
            " [0.92981824 0.07018176]\n",
            " [0.87458821 0.12541179]\n",
            " [0.9519276  0.0480724 ]\n",
            " [0.94220732 0.05779268]\n",
            " [0.9137804  0.0862196 ]\n",
            " [0.92421501 0.07578499]\n",
            " [0.90452434 0.09547566]\n",
            " [0.88782601 0.11217399]\n",
            " [0.94854716 0.05145284]\n",
            " [0.91097971 0.08902029]\n",
            " [0.92142356 0.07857644]\n",
            " [0.87925274 0.12074726]]\n"
          ]
        }
      ]
    },
    {
      "cell_type": "markdown",
      "metadata": {
        "id": "U1VBqFPvfQJJ"
      },
      "source": [
        "###True Positive Rate (tpr) & False Positive Rate (fpr)\n"
      ]
    },
    {
      "cell_type": "code",
      "metadata": {
        "colab": {
          "base_uri": "https://localhost:8080/"
        },
        "id": "3IY8unK7REui",
        "outputId": "893fc31a-b986-4134-914a-feaf395541b4"
      },
      "source": [
        "# calculate true positive rate (tpr) and false positive rate (fpr)\n",
        "fpr, tpr, thresholds = roc_curve(y_test, y_pred_prob[:,1], pos_label=1)\n",
        "\n",
        "print(f'False positive rate:\\n\\n{fpr}\\n\\nTrue positive rate:\\n\\n{tpr}')"
      ],
      "execution_count": 46,
      "outputs": [
        {
          "output_type": "stream",
          "name": "stdout",
          "text": [
            "False positive rate:\n",
            "\n",
            "[0.         0.00492611 0.02463054 0.02463054 0.03940887 0.03940887\n",
            " 0.04433498 0.04433498 0.06896552 0.07881773 0.10344828 0.11330049\n",
            " 0.1182266  0.1182266  0.15763547 0.15763547 0.17241379 0.17241379\n",
            " 0.19211823 0.19211823 0.20689655 0.20689655 0.23152709 0.23152709\n",
            " 0.26108374 0.27093596 0.28078818 0.29064039 0.3546798  0.3546798\n",
            " 0.39901478 0.39901478 0.408867   0.43349754 0.43349754 0.4679803\n",
            " 0.4679803  0.47783251 0.48768473 0.50738916 0.50738916 0.5320197\n",
            " 0.5320197  0.54187192 0.54187192 0.59605911 0.59605911 0.61083744\n",
            " 0.62068966 0.62068966 0.69458128 0.7044335  0.76847291 0.76847291\n",
            " 0.78817734 0.78817734 0.82758621 0.83743842 0.8817734  0.89162562\n",
            " 0.94581281 0.94581281 0.96059113 0.96059113 1.        ]\n",
            "\n",
            "True positive rate:\n",
            "\n",
            "[0.         0.         0.         0.04166667 0.04166667 0.08333333\n",
            " 0.08333333 0.125      0.125      0.125      0.125      0.125\n",
            " 0.125      0.16666667 0.16666667 0.25       0.25       0.29166667\n",
            " 0.29166667 0.33333333 0.33333333 0.375      0.375      0.41666667\n",
            " 0.41666667 0.41666667 0.41666667 0.41666667 0.41666667 0.45833333\n",
            " 0.45833333 0.5        0.5        0.5        0.54166667 0.54166667\n",
            " 0.58333333 0.58333333 0.58333333 0.58333333 0.625      0.625\n",
            " 0.66666667 0.66666667 0.70833333 0.70833333 0.75       0.75\n",
            " 0.75       0.79166667 0.79166667 0.79166667 0.79166667 0.83333333\n",
            " 0.83333333 0.875      0.875      0.875      0.875      0.875\n",
            " 0.875      0.95833333 0.95833333 1.         1.        ]\n"
          ]
        }
      ]
    },
    {
      "cell_type": "markdown",
      "metadata": {
        "id": "nOmHAAyQe71v"
      },
      "source": [
        "###Area Under the Curve (AUC)\n"
      ]
    },
    {
      "cell_type": "code",
      "metadata": {
        "colab": {
          "base_uri": "https://localhost:8080/"
        },
        "id": "DyNaOu3kRJKJ",
        "outputId": "0e019d67-2a2c-4770-ff0d-b7fb52823af1"
      },
      "source": [
        "# calculate area under the curve (AUC)\n",
        "AUC = auc(fpr, tpr)\n",
        "\n",
        "print(f'Area under curve (AUC) for ROC: {AUC}')"
      ],
      "execution_count": 47,
      "outputs": [
        {
          "output_type": "stream",
          "name": "stdout",
          "text": [
            "Area under curve (AUC) for ROC: 0.5747126436781609\n"
          ]
        }
      ]
    },
    {
      "cell_type": "markdown",
      "metadata": {
        "id": "hvPr3E9IexxG"
      },
      "source": [
        "###Receiver Operating Characteristic (ROC) Curve"
      ]
    },
    {
      "cell_type": "code",
      "metadata": {
        "colab": {
          "base_uri": "https://localhost:8080/",
          "height": 295
        },
        "id": "rezs22MKRNCW",
        "outputId": "bb11f659-5185-4e5b-d8dd-f852e2059d64"
      },
      "source": [
        "# plotting receiver operating characteristic (ROC) curve\n",
        "%matplotlib inline\n",
        "\n",
        "pyplot.figure()\n",
        "\n",
        "# ROC curve\n",
        "pyplot.plot(fpr, tpr, color='red', lw=1, label='ROC Curve (area = %0.2f)' % AUC)\n",
        "\n",
        "# random guess line\n",
        "pyplot.plot([0,1], [0,1], color='blue', lw=1, linestyle='--')\n",
        "\n",
        "# range of X and Y axis \n",
        "pyplot.xlim([-0.005, 1.005])\n",
        "pyplot.ylim([0.0, 1.01])\n",
        "\n",
        "# axis labels\n",
        "pyplot.xlabel('False Positive Rate (FPR)')\n",
        "pyplot.ylabel('True Positive Rate (TPR)')\n",
        "\n",
        "# title and legend\n",
        "pyplot.title('ROC')\n",
        "pyplot.legend(loc=\"lower right\")\n",
        "\n",
        "pyplot.show()"
      ],
      "execution_count": 48,
      "outputs": [
        {
          "output_type": "display_data",
          "data": {
            "image/png": "[encoded data removed]",
            "text/plain": [
              "<Figure size 432x288 with 1 Axes>"
            ]
          },
          "metadata": {
            "needs_background": "light"
          }
        }
      ]
    },
    {
      "cell_type": "markdown",
      "metadata": {
        "id": "5MDA7uYffzt1"
      },
      "source": [
        "## Final Results\n",
        "Our most accurate result, through the 5 separate classifications made on the dataset, came from Random Forest 92% accurate predictions using the Track Audio Analysis features. Our findings our as follows\n",
        "* **Most Accurate Predictions**: Random Forest Classification\n",
        "* **Least Accurate Predictions**: Decision Tree Classification\n",
        "* **Most Accurate Feature (in dataset)**: Instrumentalness\n",
        "* **Most Accurate Feature Pair(s)**: A 3-way tie between (Instrumentalness and Mode), (Instrumentalness and Time Signature), and (Time Signature and Valence)"
      ]
    },
    {
      "cell_type": "code",
      "metadata": {
        "colab": {
          "base_uri": "https://localhost:8080/",
          "height": 417
        },
        "id": "wDvDyMSAgpZW",
        "outputId": "80f984aa-a210-48c3-c4b6-2fa3c7ddb3d1"
      },
      "source": [
        "# plotting accuracies of classifiers and Instrumentalness alone\n",
        "x = ['Decision Tree', 'KNN', 'Ensemble Learning (Bagging)', 'Random Forest', 'Logistic Regression', 'Instrumentalness (as an independent KNN feature)']\n",
        "x1 = ['DT', 'KNN', 'EL', 'RF', 'LR', 'I']\n",
        "y1 = [0.8898678414096917, 0.9030837004405287, 0.9162995594713657, 0.9251101321585903, 0.8942731277533039, 0.8986784140969163]\n",
        "\n",
        "for abbrev, name in zip(x1, x):\n",
        "    print(f'{abbrev}: {name}')\n",
        "print()\n",
        "\n",
        "pyplot.bar(x1, y1, label=\"Accuracy\", color='b')\n",
        "pyplot.plot()\n",
        "\n",
        "pyplot.ylim(bottom=0.85,top=0.95)\n",
        "pyplot.xlabel(\"Classifier (w/ Instrumentalness)\")\n",
        "pyplot.ylabel(\"Accuracy Score\")\n",
        "pyplot.title(\"Prediction Scores\")\n",
        "pyplot.legend()\n",
        "pyplot.show()"
      ],
      "execution_count": 49,
      "outputs": [
        {
          "output_type": "stream",
          "name": "stdout",
          "text": [
            "DT: Decision Tree\n",
            "KNN: KNN\n",
            "EL: Ensemble Learning (Bagging)\n",
            "RF: Random Forest\n",
            "LR: Logistic Regression\n",
            "I: Instrumentalness (as an independent KNN feature)\n",
            "\n"
          ]
        },
        {
          "output_type": "display_data",
          "data": {
            "image/png": "[encoded data removed]",
            "text/plain": [
              "<Figure size 432x288 with 1 Axes>"
            ]
          },
          "metadata": {
            "needs_background": "light"
          }
        }
      ]
    }
  ]
}